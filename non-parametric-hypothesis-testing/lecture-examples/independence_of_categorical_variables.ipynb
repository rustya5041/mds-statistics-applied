{
 "cells": [
  {
   "cell_type": "code",
   "execution_count": 3,
   "metadata": {},
   "outputs": [],
   "source": [
    "import numpy as np\n",
    "import pandas as pd\n",
    "from scipy import stats\n",
    "import itertools\n",
    "import matplotlib.pyplot as plt\n",
    "\n",
    "%matplotlib inline"
   ]
  },
  {
   "cell_type": "markdown",
   "metadata": {},
   "source": [
    "# Data: GSS happiness vs. trust in people\n",
    "In this example we are going to look at another pair of questions from General Social Survey conducted in 2018. \n",
    "\n",
    "Question 1: Taken all together, how would you say things are these days – would you say that you are very happy, pretty happy, or not too happy?\n",
    "\n",
    "Question 2: Generally speaking, would you say that most people can be trusted or that you can't be too careful in dealing with people?\n",
    "\n",
    "Are answers to these questions independent?"
   ]
  },
  {
   "cell_type": "code",
   "execution_count": 4,
   "metadata": {},
   "outputs": [
    {
     "data": {
      "text/html": [
       "<div>\n",
       "<style scoped>\n",
       "    .dataframe tbody tr th:only-of-type {\n",
       "        vertical-align: middle;\n",
       "    }\n",
       "\n",
       "    .dataframe tbody tr th {\n",
       "        vertical-align: top;\n",
       "    }\n",
       "\n",
       "    .dataframe thead th {\n",
       "        text-align: right;\n",
       "    }\n",
       "</style>\n",
       "<table border=\"1\" class=\"dataframe\">\n",
       "  <thead>\n",
       "    <tr style=\"text-align: right;\">\n",
       "      <th></th>\n",
       "      <th>happiness</th>\n",
       "      <th>trust</th>\n",
       "    </tr>\n",
       "  </thead>\n",
       "  <tbody>\n",
       "    <tr>\n",
       "      <th>0</th>\n",
       "      <td>Very happy</td>\n",
       "      <td>Can trust</td>\n",
       "    </tr>\n",
       "    <tr>\n",
       "      <th>1</th>\n",
       "      <td>Very happy</td>\n",
       "      <td>Can't be too careful</td>\n",
       "    </tr>\n",
       "    <tr>\n",
       "      <th>2</th>\n",
       "      <td>Very happy</td>\n",
       "      <td>Can trust</td>\n",
       "    </tr>\n",
       "    <tr>\n",
       "      <th>3</th>\n",
       "      <td>Pretty happy</td>\n",
       "      <td>Can trust</td>\n",
       "    </tr>\n",
       "    <tr>\n",
       "      <th>4</th>\n",
       "      <td>Pretty happy</td>\n",
       "      <td>Can't be too careful</td>\n",
       "    </tr>\n",
       "  </tbody>\n",
       "</table>\n",
       "</div>"
      ],
      "text/plain": [
       "      happiness                 trust\n",
       "0    Very happy             Can trust\n",
       "1    Very happy  Can't be too careful\n",
       "2    Very happy             Can trust\n",
       "3  Pretty happy             Can trust\n",
       "4  Pretty happy  Can't be too careful"
      ]
     },
     "execution_count": 4,
     "metadata": {},
     "output_type": "execute_result"
    }
   ],
   "source": [
    "gss_data = pd.read_csv('/Users/rustya/Desktop/Applied stats/datasets/happiness_trust.csv')\n",
    "gss_data.head()"
   ]
  },
  {
   "cell_type": "code",
   "execution_count": 5,
   "metadata": {},
   "outputs": [
    {
     "data": {
      "text/html": [
       "<div>\n",
       "<style scoped>\n",
       "    .dataframe tbody tr th:only-of-type {\n",
       "        vertical-align: middle;\n",
       "    }\n",
       "\n",
       "    .dataframe tbody tr th {\n",
       "        vertical-align: top;\n",
       "    }\n",
       "\n",
       "    .dataframe thead th {\n",
       "        text-align: right;\n",
       "    }\n",
       "</style>\n",
       "<table border=\"1\" class=\"dataframe\">\n",
       "  <thead>\n",
       "    <tr style=\"text-align: right;\">\n",
       "      <th>trust</th>\n",
       "      <th>Can trust</th>\n",
       "      <th>Can't be too careful</th>\n",
       "      <th>Depends</th>\n",
       "    </tr>\n",
       "    <tr>\n",
       "      <th>happiness</th>\n",
       "      <th></th>\n",
       "      <th></th>\n",
       "      <th></th>\n",
       "    </tr>\n",
       "  </thead>\n",
       "  <tbody>\n",
       "    <tr>\n",
       "      <th>Not too happy</th>\n",
       "      <td>43</td>\n",
       "      <td>197</td>\n",
       "      <td>9</td>\n",
       "    </tr>\n",
       "    <tr>\n",
       "      <th>Pretty happy</th>\n",
       "      <td>270</td>\n",
       "      <td>535</td>\n",
       "      <td>40</td>\n",
       "    </tr>\n",
       "    <tr>\n",
       "      <th>Very happy</th>\n",
       "      <td>179</td>\n",
       "      <td>260</td>\n",
       "      <td>19</td>\n",
       "    </tr>\n",
       "  </tbody>\n",
       "</table>\n",
       "</div>"
      ],
      "text/plain": [
       "trust          Can trust  Can't be too careful  Depends\n",
       "happiness                                              \n",
       "Not too happy         43                   197        9\n",
       "Pretty happy         270                   535       40\n",
       "Very happy           179                   260       19"
      ]
     },
     "execution_count": 5,
     "metadata": {},
     "output_type": "execute_result"
    }
   ],
   "source": [
    "ct = pd.crosstab(gss_data.happiness, gss_data.trust)\n",
    "ct"
   ]
  },
  {
   "cell_type": "markdown",
   "metadata": {},
   "source": [
    "# Chi squared test for independence\n",
    "$H_0$: happiness and trust in people are independent\n",
    "\n",
    "$H_1$: $H_0$ is false"
   ]
  },
  {
   "cell_type": "code",
   "execution_count": 6,
   "metadata": {},
   "outputs": [
    {
     "data": {
      "text/plain": [
       "Chi2ContingencyResult(statistic=37.58945272647462, pvalue=1.3617693470270765e-07, dof=4, expected_freq=array([[ 78.93556701, 159.15463918,  10.90979381],\n",
       "       [267.87371134, 540.10309278,  37.02319588],\n",
       "       [145.19072165, 292.74226804,  20.06701031]]))"
      ]
     },
     "execution_count": 6,
     "metadata": {},
     "output_type": "execute_result"
    }
   ],
   "source": [
    "stats.chi2_contingency(ct)"
   ]
  },
  {
   "cell_type": "markdown",
   "metadata": {},
   "source": [
    "$p=1.4\\times10^{-7}<0.05$ – null hypothesis is rejected. None of the expected counts (the array returned above) are below 5, so chi-squared test is accurate."
   ]
  },
  {
   "cell_type": "markdown",
   "metadata": {},
   "source": [
    "# Permutation test for independence\n",
    "\n",
    "Chi squared test is perfectly fine for this dataset since the expected counts are quite high (so the approximation is valid), but let's apply permutation test anyway – so you'll have an example of it."
   ]
  },
  {
   "cell_type": "code",
   "execution_count": 7,
   "metadata": {},
   "outputs": [],
   "source": [
    "def permutation_stat_cat_ind(sample1, sample2):\n",
    "    ct = pd.crosstab(sample1, sample2)\n",
    "    return stats.chi2_contingency(ct)[0]\n",
    "\n",
    "def get_random_permutations(n, max_permutations):\n",
    "    index = np.array(range(n))\n",
    "    indices = set([tuple(index)])        \n",
    "    for i in range(max_permutations - 1):\n",
    "        np.random.shuffle(index)\n",
    "        indices.add(tuple(index))\n",
    "    return list(indices)\n",
    "\n",
    "def permutation_null_dist_cat_ind(sample1, sample2, max_permutations = None):\n",
    "    if not len(sample1) == len(sample2):\n",
    "        raise ValueError(\"Samples should be paired and have the same size\")\n",
    "        \n",
    "    n = len(sample1)\n",
    "    \n",
    "    if max_permutations:\n",
    "        indices = get_random_permutations(n, max_permutations)\n",
    "    else:\n",
    "        indices = list(itertools.permutations(list(range(n))))\n",
    "    \n",
    "    distr = [permutation_stat_cat_ind(sample1, sample2[list(i)]) for i in indices]\n",
    "    return distr\n",
    "\n",
    "def permutation_test_cat_ind(sample1, sample2, max_permutations = None, return_distr = False):    \n",
    "    t_stat = permutation_stat_cat_ind(sample1, sample2)\n",
    "    \n",
    "    null_distr = permutation_null_dist_cat_ind(sample1, sample2, max_permutations)\n",
    "    \n",
    "    p = sum([1. if x >= t_stat else 0. for x in null_distr]) / len(null_distr)\n",
    "        \n",
    "    if return_distr:\n",
    "        return {'t': t_stat, 'p': p, 'null_distr': null_distr}\n",
    "    else:\n",
    "        return {'t': t_stat, 'p': p}"
   ]
  },
  {
   "cell_type": "code",
   "execution_count": 8,
   "metadata": {},
   "outputs": [
    {
     "name": "stdout",
     "output_type": "stream",
     "text": [
      "Permutation test: t = 37.589453, p = 0.000100\n"
     ]
    }
   ],
   "source": [
    "res = permutation_test_cat_ind(gss_data.happiness.values, gss_data.trust.values, \n",
    "                               max_permutations = 10000, return_distr = True)\n",
    "print(\"Permutation test: t = %f, p = %f\" % (res['t'], res['p']))"
   ]
  },
  {
   "cell_type": "code",
   "execution_count": 9,
   "metadata": {},
   "outputs": [
    {
     "data": {
      "image/png": "[encoded data removed]",
      "text/plain": [
       "<Figure size 640x480 with 1 Axes>"
      ]
     },
     "metadata": {},
     "output_type": "display_data"
    }
   ],
   "source": [
    "plt.hist(res['null_distr'], bins = 100);"
   ]
  },
  {
   "cell_type": "markdown",
   "metadata": {},
   "source": [
    "# Follow-up: standardized Pearson residuals"
   ]
  },
  {
   "cell_type": "code",
   "execution_count": 10,
   "metadata": {},
   "outputs": [],
   "source": [
    "def st_pearson_residuals(ct):\n",
    "    e = stats.chi2_contingency(ct)[3]\n",
    "    r = e\n",
    "    n_plus_j = np.sum(ct, axis=0)\n",
    "    n_i_plus = np.sum(ct, axis=1)\n",
    "    \n",
    "    n = np.sum(n_plus_j)\n",
    "    \n",
    "    for i in range(len(n_i_plus)):\n",
    "        for j in range(len(n_plus_j)):\n",
    "            r[i,j] = (ct.values[i,j] - e[i,j]) / np.sqrt(e[i,j] * (1 - n_i_plus[i] / n) * (1 - n_plus_j[j] / n))\n",
    "    \n",
    "    return pd.DataFrame(data=r, index = ct.index, columns = ct.columns)"
   ]
  },
  {
   "cell_type": "code",
   "execution_count": 11,
   "metadata": {},
   "outputs": [
    {
     "data": {
      "text/html": [
       "<div>\n",
       "<style scoped>\n",
       "    .dataframe tbody tr th:only-of-type {\n",
       "        vertical-align: middle;\n",
       "    }\n",
       "\n",
       "    .dataframe tbody tr th {\n",
       "        vertical-align: top;\n",
       "    }\n",
       "\n",
       "    .dataframe thead th {\n",
       "        text-align: right;\n",
       "    }\n",
       "</style>\n",
       "<table border=\"1\" class=\"dataframe\">\n",
       "  <thead>\n",
       "    <tr style=\"text-align: right;\">\n",
       "      <th>trust</th>\n",
       "      <th>Can trust</th>\n",
       "      <th>Can't be too careful</th>\n",
       "      <th>Depends</th>\n",
       "    </tr>\n",
       "    <tr>\n",
       "      <th>happiness</th>\n",
       "      <th></th>\n",
       "      <th></th>\n",
       "      <th></th>\n",
       "    </tr>\n",
       "  </thead>\n",
       "  <tbody>\n",
       "    <tr>\n",
       "      <th>Not too happy</th>\n",
       "      <td>-5.341395</td>\n",
       "      <td>5.450401</td>\n",
       "      <td>-0.645328</td>\n",
       "    </tr>\n",
       "    <tr>\n",
       "      <th>Pretty happy</th>\n",
       "      <td>0.232909</td>\n",
       "      <td>-0.541606</td>\n",
       "      <td>0.741273</td>\n",
       "    </tr>\n",
       "    <tr>\n",
       "      <th>Very happy</th>\n",
       "      <td>4.043864</td>\n",
       "      <td>-3.794505</td>\n",
       "      <td>-0.290130</td>\n",
       "    </tr>\n",
       "  </tbody>\n",
       "</table>\n",
       "</div>"
      ],
      "text/plain": [
       "trust          Can trust  Can't be too careful   Depends\n",
       "happiness                                               \n",
       "Not too happy  -5.341395              5.450401 -0.645328\n",
       "Pretty happy    0.232909             -0.541606  0.741273\n",
       "Very happy      4.043864             -3.794505 -0.290130"
      ]
     },
     "execution_count": 11,
     "metadata": {},
     "output_type": "execute_result"
    }
   ],
   "source": [
    "st_pearson_residuals(ct)"
   ]
  },
  {
   "cell_type": "markdown",
   "metadata": {},
   "source": [
    "Looks like unhappy people trust people less, and happy people trust people more than it would have been if these two variables were independent!"
   ]
  }
 ],
 "metadata": {
  "kernelspec": {
   "display_name": "Python 3",
   "language": "python",
   "name": "python3"
  },
  "language_info": {
   "codemirror_mode": {
    "name": "ipython",
    "version": 3
   },
   "file_extension": ".py",
   "mimetype": "text/x-python",
   "name": "python",
   "nbconvert_exporter": "python",
   "pygments_lexer": "ipython3",
   "version": "3.9.12"
  }
 },
 "nbformat": 4,
 "nbformat_minor": 4
}
