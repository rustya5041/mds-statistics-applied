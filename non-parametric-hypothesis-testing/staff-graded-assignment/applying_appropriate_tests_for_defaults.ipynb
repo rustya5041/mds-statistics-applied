{
 "cells": [
  {
   "cell_type": "code",
   "execution_count": 55,
   "metadata": {},
   "outputs": [],
   "source": [
    "import pandas as pd\n",
    "import numpy as np\n",
    "from itertools import combinations, permutations\n",
    "from scipy.stats import mannwhitneyu, chi2_contingency, ttest_ind\n",
    "from statsmodels.stats import contingency_tables\n",
    "from statsmodels.stats.proportion import proportion_confint\n",
    "import matplotlib.pyplot as plt\n",
    "\n",
    "np.random.seed(42)"
   ]
  },
  {
   "cell_type": "code",
   "execution_count": 56,
   "metadata": {},
   "outputs": [],
   "source": [
    "# udfs\n",
    "\n",
    "# bootstrap function\n",
    "def get_bootstrap_samples(data, n_samples):\n",
    "    \"\"\"Generates bootstrap samples using the data\"\"\"\n",
    "    indices = np.random.randint(0, len(data), (n_samples, len(data)))\n",
    "    samples = data[indices]\n",
    "    return samples\n",
    "\n",
    "# median difference function\n",
    "def get_stat_intervals(stat, alpha):\n",
    "    \"\"\"Returns confidence intervals for the statistic\"\"\"\n",
    "    boundaries = np.percentile(stat, [100 * alpha / 2., 100 * (1 - alpha / 2.)])\n",
    "    return boundaries\n",
    "\n",
    "# distirubtion comparison function\n",
    "def compare_distributions(col, bins=50):\n",
    "    \"\"\"Plots 3 graphs for 2 groups: histogram, density plot, boxplot\"\"\"\n",
    "    plt.figure(figsize=(16, 6))\n",
    "    plt.subplot(1, 3, 1)\n",
    "    plt.hist(defa[col], bins=bins, alpha=0.5, label='default')\n",
    "    plt.hist(nodefa[col], bins=bins, alpha=0.5, label='no default')\n",
    "    plt.title('Histogram')\n",
    "    plt.legend()\n",
    "\n",
    "    plt.subplot(1, 3, 2)\n",
    "    plt.hist(defa[col], bins=bins, alpha=0.5, label='default', density=True)\n",
    "    plt.hist(nodefa[col], bins=bins, alpha=0.5, label='no default', density=True)\n",
    "    plt.title('Density plot')\n",
    "    plt.legend()\n",
    "\n",
    "    plt.subplot(1, 3, 3)\n",
    "    plt.boxplot([defa[col], nodefa[col]])\n",
    "    plt.xticks([1, 2], ['default', 'no default'])\n",
    "    plt.title('Boxplot')\n",
    "    plt.show()\n",
    "\n",
    "\n",
    "# permutation test for 2 independent samples\n",
    "def permutation_t_stat_2s(sample1, sample2):\n",
    "    return np.mean(sample1) - np.mean(sample2)\n",
    "\n",
    "def get_random_combinations(n1, n2, max_permutations):\n",
    "    index = np.array(range(n1 + n2))\n",
    "    indices = set([tuple(index)])\n",
    "    for i in range(max_permutations - 1):\n",
    "        np.random.shuffle(index)\n",
    "        indices.add(tuple(index))\n",
    "    return [(index[:n1], index[n1:]) for index in indices]\n",
    "\n",
    "def permutation_null_dist_2s(sample1, sample2, max_permutations = None):\n",
    "    pooled_sample = np.hstack((sample1, sample2))\n",
    "    n1 = len(sample1)\n",
    "    n2 = len(sample2)\n",
    "    n = n1 + n2\n",
    "    \n",
    "    if max_permutations:\n",
    "        indices = get_random_combinations(n1, n2, max_permutations)\n",
    "    else:\n",
    "        indices = [(list(index), filter(lambda i: i not in index, range(n))) \\\n",
    "                    for index in combinations(range(n), n1)]\n",
    "    \n",
    "    distr = [permutation_t_stat_2s(pooled_sample[list(i[0])], pooled_sample[list(i[1])]) \\\n",
    "             for i in indices]\n",
    "    return distr\n",
    "\n",
    "def permutation_test_2s(sample1, sample2, max_permutations = None, alternative = 'two-sided', return_distr = False):\n",
    "    if alternative not in ('two-sided', 'less', 'greater'):\n",
    "        raise ValueError(\"alternative not recognized\\n\"\n",
    "                         \"should be 'two-sided', 'less' or 'greater'\")\n",
    "    \n",
    "    t_stat = permutation_t_stat_2s(sample1, sample2)\n",
    "    \n",
    "    null_distr = permutation_null_dist_2s(sample1, sample2, max_permutations)\n",
    "    \n",
    "    if alternative == 'two-sided':\n",
    "        p = sum([1. if abs(x) >= abs(t_stat) else 0. for x in null_distr]) / len(null_distr)\n",
    "    elif alternative == 'less':\n",
    "        p = sum([1. if x <= t_stat else 0. for x in null_distr]) / len(null_distr)\n",
    "    else: # alternative == 'greater':\n",
    "        p = sum([1. if x >= t_stat else 0. for x in null_distr]) / len(null_distr)\n",
    "    \n",
    "    if return_distr:\n",
    "        return {'t': t_stat, 'p': p, 'null_distr': null_distr}\n",
    "    else:\n",
    "        return {'t': t_stat, 'p': p}\n",
    "    \n",
    "\n",
    "# permutation test for independence\n",
    "def permutation_stat_cat_ind(sample1, sample2):\n",
    "    ct = pd.crosstab(sample1, sample2)\n",
    "    return chi2_contingency(ct)[0]\n",
    "\n",
    "def get_random_permutations(n, max_permutations):\n",
    "    index = np.array(range(n))\n",
    "    indices = set([tuple(index)])        \n",
    "    for i in range(max_permutations - 1):\n",
    "        np.random.shuffle(index)\n",
    "        indices.add(tuple(index))\n",
    "    return list(indices)\n",
    "\n",
    "def permutation_null_dist_cat_ind(sample1, sample2, max_permutations = None):\n",
    "    if not len(sample1) == len(sample2):\n",
    "        raise ValueError(\"Samples should be paired and have the same size\")\n",
    "        \n",
    "    n = len(sample1)\n",
    "    \n",
    "    if max_permutations:\n",
    "        indices = get_random_permutations(n, max_permutations)\n",
    "    else:\n",
    "        indices = list(permutations(list(range(n))))\n",
    "    \n",
    "    distr = [permutation_stat_cat_ind(sample1, sample2[list(i)]) for i in indices]\n",
    "    return distr\n",
    "\n",
    "def permutation_test_cat_ind(sample1, sample2, max_permutations = None, return_distr = False):    \n",
    "    t_stat = permutation_stat_cat_ind(sample1, sample2)\n",
    "    \n",
    "    null_distr = permutation_null_dist_cat_ind(sample1, sample2, max_permutations)\n",
    "    \n",
    "    p = sum([1. if x >= t_stat else 0. for x in null_distr]) / len(null_distr)\n",
    "        \n",
    "    if return_distr:\n",
    "        return {'t': t_stat, 'p': p, 'null_distr': null_distr}\n",
    "    else:\n",
    "        return {'t': t_stat, 'p': p}\n",
    "    "
   ]
  },
  {
   "cell_type": "markdown",
   "metadata": {},
   "source": [
    "The dataset for this assignment was collected in Taiwan in 2005, when the credit card issuers faced the cash and credit card debt crisis. \n",
    "In order to increase market share, card-issuing banks over-issued cash and credit cards to unqualified applicants. At the same time, most cardholders, irrespective of their repayment ability, overused credit card for consumption and accumulated heavy credit and cash–card debts. The crisis caused the blow to consumer finance confidence and was a big challenge for both banks and cardholders.\n",
    "\n",
    "The data were collected from an important bank (a cash and credit card issuer) in Taiwan and the targets were credit card holders of the bank. Variables the dataset contains are:\n",
    "- LIMIT_BAL: credit limit in NT dollars (including for client's family)\n",
    "- GENDER: 1 = male, 2 = female\n",
    "- EDUCATION: 0 = doctorate, 1 = masters; 2 = bachelor; 3 = school graduate; 4 = elementary education; 5= other; 6 = no data.\n",
    "- MARITAL: marital status: 0 = no answer; 1 = married; 2 = single; 3 = no data.\n",
    "- AGE: age in years\n",
    "- PAY_APR – PAY_SEP : history of past monthly payments, from April (PAY_APR) to September (PAY_SEP) 2005. The measurement scale for the repayment status is 0 = pay duly; 1 = payment delay for one month; 2 = payment delay for two months; . . .; 8 = payment delay for eight months; 9 = payment delay for nine months and above.\n",
    "- BILL_APR – BILL_SEP: the amount of bill statement (NT dollars) each month\n",
    "- PAY_APR – PAY_SEP: the amount of previous payment (NT dollar)\n",
    "- default: binary indicator of a default (1 = Yes, 0 = No)\n",
    "\n",
    "We would like to explore whether there are differences between customers who defaulted and did not.\n",
    "\n",
    "Assignment:\n",
    "1. Credit limit: test whether there are differences between median credit limits of two groups.\n",
    "2. Gender: test whether gender composition of two groups differ.\n",
    "3. Education: test whether education levels differs between two groups. If it does, then how exactly?\n",
    "4. Marital status: Check how marital status is related to the default indicator: you need to propose a measure by which you can measure the possible relationship of these variables and calculate its value.\n",
    "5. Age: test whether there are differences between mean ages of clients in two groups."
   ]
  },
  {
   "cell_type": "markdown",
   "metadata": {},
   "source": [
    "# Credit limit"
   ]
  },
  {
   "cell_type": "code",
   "execution_count": 57,
   "metadata": {},
   "outputs": [
    {
     "name": "stdout",
     "output_type": "stream",
     "text": [
      "Defaulted df size: 6636\n",
      "Not defaulted df size: 23364\n"
     ]
    }
   ],
   "source": [
    "# read dataset, rename columns for convenience\n",
    "credits = pd.read_csv('credit_card_default_analysis.csv', index_col='ID')\n",
    "credits.columns = credits.columns.str.lower()\n",
    "\n",
    "# split data into two groups: defaulted and not defaulted\n",
    "defa = credits[credits.default == 1]\n",
    "nodefa = credits[credits.default == 0]\n",
    "\n",
    "# check sizes of groups\n",
    "print(f\"Defaulted df size: {defa.shape[0]}\\nNot defaulted df size: {nodefa.shape[0]}\")"
   ]
  },
  {
   "cell_type": "code",
   "execution_count": 58,
   "metadata": {},
   "outputs": [
    {
     "data": {
      "image/png": "[encoded data removed]",
      "text/plain": [
       "<Figure size 1600x600 with 3 Axes>"
      ]
     },
     "metadata": {},
     "output_type": "display_data"
    }
   ],
   "source": [
    "# checking distibutions of credit limit for both groups to decide which test to use\n",
    "compare_distributions('limit_bal')"
   ]
  },
  {
   "cell_type": "markdown",
   "metadata": {},
   "source": [
    "Let us examine the medians - both point and interval estimates - of the two groups. I use the bootstrap method to estimate the confidence intervals."
   ]
  },
  {
   "cell_type": "code",
   "execution_count": 59,
   "metadata": {},
   "outputs": [
    {
     "name": "stdout",
     "output_type": "stream",
     "text": [
      "Defaulted median (point estimate): 90000.0\n",
      "Not defaulted median (point estimate): 150000.0\n",
      "\n",
      "Defaulted median confint: [80000. 90000.]\n",
      "Not defaulted median confint: [150000. 150000.]\n"
     ]
    }
   ],
   "source": [
    "# point estimate\n",
    "defa_median, nodefa_median = np.median(defa.limit_bal.values), np.median(nodefa.limit_bal.values)\n",
    "print(f\"Defaulted median (point estimate): {defa_median}\\nNot defaulted median (point estimate): {nodefa_median}\\n\")\n",
    "\n",
    "# bootstrap\n",
    "defa_median_scores = list(map(np.median, get_bootstrap_samples(defa.limit_bal.values, 5000)))\n",
    "nodefa_median_scores = list(map(np.median, get_bootstrap_samples(nodefa.limit_bal.values, 5000)))\n",
    "\n",
    "# confidence interval\n",
    "defa_median_confint, nodefa_median_confint = get_stat_intervals(defa_median_scores, 0.05), get_stat_intervals(nodefa_median_scores, 0.05)\n",
    "\n",
    "# confidence interval\n",
    "print(f\"Defaulted median confint: {defa_median_confint}\\nNot defaulted median confint: {nodefa_median_confint}\")"
   ]
  },
  {
   "cell_type": "markdown",
   "metadata": {},
   "source": [
    "Given that distributions are not normal, I'll use a non-parametric test. Mann-Whitney U test suits well given that we have two independent samples.\n",
    "\n",
    "The Mann-Whitney U test is a non-parametric test of the null hypothesis that it is equally likely that a randomly selected value from one sample will be less than or greater than a randomly selected value from a second sample. \n",
    "The assumptions of the Mann-Whitney U test are:\n",
    "- the dependent variable is continuous - `OK`\n",
    "- the independent variable is categorical with two independent groups - `OK`\n",
    "- observations are iid - `OK`\n",
    "- the distribution of scores for each group is similar - `OK`\n",
    "\n",
    "$H_0$: the medians of both groups are equal  \n",
    "$H_1$: the medians of both groups are not equal"
   ]
  },
  {
   "cell_type": "code",
   "execution_count": 60,
   "metadata": {},
   "outputs": [
    {
     "name": "stdout",
     "output_type": "stream",
     "text": [
      "Mann-Whitney test: MannwhitneyuResult(statistic=59257217.5, pvalue=1.2255485818223303e-189)\n"
     ]
    }
   ],
   "source": [
    "# given that we have two independent samples, and the distribution is the same - we can use Mann-Whitney test for medians\n",
    "print(\"Mann-Whitney test:\", mannwhitneyu(defa.limit_bal, nodefa.limit_bal, alternative='two-sided'))"
   ]
  },
  {
   "cell_type": "markdown",
   "metadata": {},
   "source": [
    "- The p-value for Mann-Whitney U test is less than the significance level $\\alpha$ = 0.05. Therefore, we reject the null hypothesis that the medians of the two groups are equal.\n",
    "\n",
    "$ \\therefore $ the median credit limit of the group that defaulted is lower than the median credit limit of the group that did not default.\n",
    "\n",
    "In practical terms, the median credit limit of the group that defaulted is 50,000 NT dollars lower than the median credit limit of the group that did not default."
   ]
  },
  {
   "cell_type": "markdown",
   "metadata": {},
   "source": [
    "# Gender"
   ]
  },
  {
   "cell_type": "markdown",
   "metadata": {},
   "source": [
    "For a categorical variable, we can use a chi-square test to test whether the distribution of the variable is the same in both groups.\n",
    "\n",
    "Let us examine the data visually first."
   ]
  },
  {
   "cell_type": "code",
   "execution_count": 61,
   "metadata": {},
   "outputs": [
    {
     "data": {
      "image/png": "[encoded data removed]",
      "text/plain": [
       "<Figure size 640x480 with 1 Axes>"
      ]
     },
     "metadata": {},
     "output_type": "display_data"
    }
   ],
   "source": [
    "# for easier understanding\n",
    "gender_dict = {\n",
    "    1 : 'male',\n",
    "    2: 'female'\n",
    "}\n",
    "\n",
    "credits['gender_cat'] = credits.gender.apply(lambda x: gender_dict[x])\n",
    "\n",
    "# plotting the bar chart to see how genders may differ\n",
    "credits.groupby(['gender_cat', 'default']).size().unstack().plot(kind='bar').set_title('Observed difference between genders and defaults');"
   ]
  },
  {
   "cell_type": "code",
   "execution_count": 62,
   "metadata": {},
   "outputs": [
    {
     "name": "stdout",
     "output_type": "stream",
     "text": [
      "Defaulted ratio (point estimate): 0.2212\n",
      "Not defaulted ratio (point estimate): 0.7788\n",
      "\n",
      "Defaulted ratio confint: (0.21653915850941435, 0.22593223226370912)\n",
      "Not defaulted ratio confint: (0.7740677677362909, 0.7834608414905856)\n"
     ]
    }
   ],
   "source": [
    "# point estimate\n",
    "defa_ratio = defa.shape[0] / credits.shape[0]\n",
    "nodefa_ratio = nodefa.shape[0] / credits.shape[0]\n",
    "print(f\"Defaulted ratio (point estimate): {defa_ratio}\\nNot defaulted ratio (point estimate): {nodefa_ratio}\\n\")\n",
    "\n",
    "# wilsons interval\n",
    "defa_ratio_confint = proportion_confint(defa.shape[0], credits.shape[0], method='wilson')\n",
    "nodefa_ratio_confint = proportion_confint(nodefa.shape[0], credits.shape[0], method='wilson')\n",
    "\n",
    "# confidence interval\n",
    "print(f\"Defaulted ratio confint: {defa_ratio_confint}\\nNot defaulted ratio confint: {nodefa_ratio_confint}\")"
   ]
  },
  {
   "cell_type": "markdown",
   "metadata": {},
   "source": [
    "Now, let's run the Mann Whitney U test to check whether the distributions are the same."
   ]
  },
  {
   "cell_type": "code",
   "execution_count": 63,
   "metadata": {},
   "outputs": [],
   "source": [
    "# creating a contingency table between gender and default\n",
    "ct = pd.crosstab(credits.gender, credits.default)"
   ]
  },
  {
   "cell_type": "markdown",
   "metadata": {},
   "source": [
    "In our contingency table we have no cells with expected frequencies less than 5. Therefore, we can use the chi-square test for independence."
   ]
  },
  {
   "cell_type": "code",
   "execution_count": 64,
   "metadata": {},
   "outputs": [
    {
     "name": "stdout",
     "output_type": "stream",
     "text": [
      "[9258.3744 2629.6256]\n",
      "[14105.6256  4006.3744]\n"
     ]
    }
   ],
   "source": [
    "# running chi-squared test\n",
    "chi2_res = chi2_contingency(ct)\n",
    "\n",
    "# checking if there are any cells with less than 5 observations\n",
    "for i in chi2_res.expected_freq:\n",
    "    print(i)"
   ]
  },
  {
   "cell_type": "markdown",
   "metadata": {},
   "source": [
    "Given that we don't have any cells with less than 5 observations, we can use chi-squared test for independence."
   ]
  },
  {
   "cell_type": "code",
   "execution_count": 65,
   "metadata": {},
   "outputs": [
    {
     "name": "stdout",
     "output_type": "stream",
     "text": [
      "Chi-squared test: statistic = 47.70879689062111, p-value = 4.944678999412044e-12\n"
     ]
    }
   ],
   "source": [
    "print(f\"Chi-squared test: statistic = {chi2_res[0]}, p-value = {chi2_res[1]}\")"
   ]
  },
  {
   "cell_type": "markdown",
   "metadata": {},
   "source": [
    "$p=4.94\\times10^{-12}<0.05 \\therefore$ we reject $H_0$. None of the expected counts are below 5, so chi-squared test can be considered accurate."
   ]
  },
  {
   "cell_type": "markdown",
   "metadata": {},
   "source": [
    "Alternative, we can use a categorical permutation test. \n",
    "\n",
    "$H_0$: two groups are drawn from the same distribution  \n",
    "$H_1$: two groups are drawn from different distributions  "
   ]
  },
  {
   "cell_type": "code",
   "execution_count": 66,
   "metadata": {},
   "outputs": [
    {
     "name": "stdout",
     "output_type": "stream",
     "text": [
      "Permutation test: t = 47.708797, p = 0.000100\n"
     ]
    }
   ],
   "source": [
    "res_perm_cat = permutation_test_cat_ind(credits.gender.values, credits.default.values, \n",
    "                               max_permutations = 10000, return_distr = True)\n",
    "\n",
    "print(\"Permutation test: t = %f, p = %f\" % (res_perm_cat['t'], res_perm_cat['p']))"
   ]
  },
  {
   "cell_type": "markdown",
   "metadata": {},
   "source": [
    "p-value for the categorical permutation test > 0.05, so we also reject $H_0$."
   ]
  },
  {
   "cell_type": "markdown",
   "metadata": {},
   "source": [
    "Let us check the null distirbution of the test statistic:"
   ]
  },
  {
   "cell_type": "code",
   "execution_count": 67,
   "metadata": {},
   "outputs": [
    {
     "data": {
      "image/png": "[encoded data removed]",
      "text/plain": [
       "<Figure size 640x480 with 1 Axes>"
      ]
     },
     "metadata": {},
     "output_type": "display_data"
    }
   ],
   "source": [
    "plt.hist(res_perm_cat['null_distr'], bins = 100)\n",
    "plt.xlim(0, 10)\n",
    "plt.title('Null distribution')\n",
    "plt.show()"
   ]
  },
  {
   "cell_type": "markdown",
   "metadata": {},
   "source": [
    "We can also calculate Pearson's residuals to see which cells contribute the most to the chi-squared statistic."
   ]
  },
  {
   "cell_type": "code",
   "execution_count": 68,
   "metadata": {},
   "outputs": [
    {
     "data": {
      "text/html": [
       "<div>\n",
       "<style scoped>\n",
       "    .dataframe tbody tr th:only-of-type {\n",
       "        vertical-align: middle;\n",
       "    }\n",
       "\n",
       "    .dataframe tbody tr th {\n",
       "        vertical-align: top;\n",
       "    }\n",
       "\n",
       "    .dataframe thead th {\n",
       "        text-align: right;\n",
       "    }\n",
       "</style>\n",
       "<table border=\"1\" class=\"dataframe\">\n",
       "  <thead>\n",
       "    <tr style=\"text-align: right;\">\n",
       "      <th>default</th>\n",
       "      <th>0</th>\n",
       "      <th>1</th>\n",
       "    </tr>\n",
       "    <tr>\n",
       "      <th>gender</th>\n",
       "      <th></th>\n",
       "      <th></th>\n",
       "    </tr>\n",
       "  </thead>\n",
       "  <tbody>\n",
       "    <tr>\n",
       "      <th>1</th>\n",
       "      <td>-2.529342</td>\n",
       "      <td>4.746002</td>\n",
       "    </tr>\n",
       "    <tr>\n",
       "      <th>2</th>\n",
       "      <td>2.049173</td>\n",
       "      <td>-3.845025</td>\n",
       "    </tr>\n",
       "  </tbody>\n",
       "</table>\n",
       "</div>"
      ],
      "text/plain": [
       "default         0         1\n",
       "gender                     \n",
       "1       -2.529342  4.746002\n",
       "2        2.049173 -3.845025"
      ]
     },
     "execution_count": 68,
     "metadata": {},
     "output_type": "execute_result"
    }
   ],
   "source": [
    "# calculate pearsons residuals\n",
    "residuals_gen = contingency_tables.Table(ct).resid_pearson\n",
    "residuals_gen"
   ]
  },
  {
   "cell_type": "markdown",
   "metadata": {},
   "source": [
    "We can see that the residuals greatly deviate from expected for both male and female genders in the 'defaulted' group.\n",
    "\n",
    "Practically speaking, I can't really say what implications are possible from this analysis - results may surely differ gender-wise, but I don't know how to interpret this."
   ]
  },
  {
   "cell_type": "markdown",
   "metadata": {},
   "source": [
    "# Education"
   ]
  },
  {
   "cell_type": "markdown",
   "metadata": {},
   "source": [
    "Education in our dataset is a categorical variable. Let us examine the data visually first."
   ]
  },
  {
   "cell_type": "code",
   "execution_count": 69,
   "metadata": {},
   "outputs": [
    {
     "data": {
      "image/png": "[encoded data removed]",
      "text/plain": [
       "<Figure size 640x480 with 1 Axes>"
      ]
     },
     "metadata": {},
     "output_type": "display_data"
    }
   ],
   "source": [
    "# vis education and default\n",
    "credits.groupby(['education', 'default']).size().unstack().plot(kind='bar').set_title('Observed difference between education and defaults');"
   ]
  },
  {
   "cell_type": "markdown",
   "metadata": {},
   "source": [
    "Given the variable is categorical, Mann-Whitney U test can be used to test whether the distributions of the two groups are the same.\n",
    "\n",
    "$H_0$: the distributions of the two groups are the same  \n",
    "$H_1$: the distributions of the two groups are not the same"
   ]
  },
  {
   "cell_type": "code",
   "execution_count": 70,
   "metadata": {},
   "outputs": [
    {
     "name": "stdout",
     "output_type": "stream",
     "text": [
      "Mann-Whitney test: MannwhitneyuResult(statistic=81931254.0, pvalue=1.532351818931204e-14)\n"
     ]
    }
   ],
   "source": [
    "edu_def = defa.education.values\n",
    "edu_nodef = nodefa.education.values\n",
    "\n",
    "print(f\"Mann-Whitney test: {mannwhitneyu(edu_def, edu_nodef, alternative='two-sided')}\")"
   ]
  },
  {
   "cell_type": "markdown",
   "metadata": {},
   "source": [
    "The p-value of the Mann Whitney U test is less than the significance level $\\alpha$ = 0.05. Therefore, we reject the null hypothesis that the distributions of the two groups are the same."
   ]
  },
  {
   "cell_type": "markdown",
   "metadata": {},
   "source": [
    "Despite that education is an ordinal variable, we can treat it as categorical and use a chi-square test to test whether the distribution of the variable is the same in both groups."
   ]
  },
  {
   "cell_type": "code",
   "execution_count": 71,
   "metadata": {},
   "outputs": [
    {
     "data": {
      "text/html": [
       "<div>\n",
       "<style scoped>\n",
       "    .dataframe tbody tr th:only-of-type {\n",
       "        vertical-align: middle;\n",
       "    }\n",
       "\n",
       "    .dataframe tbody tr th {\n",
       "        vertical-align: top;\n",
       "    }\n",
       "\n",
       "    .dataframe thead th {\n",
       "        text-align: right;\n",
       "    }\n",
       "</style>\n",
       "<table border=\"1\" class=\"dataframe\">\n",
       "  <thead>\n",
       "    <tr style=\"text-align: right;\">\n",
       "      <th>default</th>\n",
       "      <th>0</th>\n",
       "      <th>1</th>\n",
       "    </tr>\n",
       "    <tr>\n",
       "      <th>education</th>\n",
       "      <th></th>\n",
       "      <th></th>\n",
       "    </tr>\n",
       "  </thead>\n",
       "  <tbody>\n",
       "    <tr>\n",
       "      <th>0</th>\n",
       "      <td>14</td>\n",
       "      <td>0</td>\n",
       "    </tr>\n",
       "    <tr>\n",
       "      <th>1</th>\n",
       "      <td>8549</td>\n",
       "      <td>2036</td>\n",
       "    </tr>\n",
       "    <tr>\n",
       "      <th>2</th>\n",
       "      <td>10700</td>\n",
       "      <td>3330</td>\n",
       "    </tr>\n",
       "    <tr>\n",
       "      <th>3</th>\n",
       "      <td>3680</td>\n",
       "      <td>1237</td>\n",
       "    </tr>\n",
       "    <tr>\n",
       "      <th>4</th>\n",
       "      <td>116</td>\n",
       "      <td>7</td>\n",
       "    </tr>\n",
       "    <tr>\n",
       "      <th>5</th>\n",
       "      <td>262</td>\n",
       "      <td>18</td>\n",
       "    </tr>\n",
       "    <tr>\n",
       "      <th>6</th>\n",
       "      <td>43</td>\n",
       "      <td>8</td>\n",
       "    </tr>\n",
       "  </tbody>\n",
       "</table>\n",
       "</div>"
      ],
      "text/plain": [
       "default        0     1\n",
       "education             \n",
       "0             14     0\n",
       "1           8549  2036\n",
       "2          10700  3330\n",
       "3           3680  1237\n",
       "4            116     7\n",
       "5            262    18\n",
       "6             43     8"
      ]
     },
     "execution_count": 71,
     "metadata": {},
     "output_type": "execute_result"
    }
   ],
   "source": [
    "# contringency table\n",
    "ct_edu = pd.crosstab(credits.education, credits.default)\n",
    "ct_edu"
   ]
  },
  {
   "cell_type": "code",
   "execution_count": 72,
   "metadata": {},
   "outputs": [
    {
     "name": "stdout",
     "output_type": "stream",
     "text": [
      "[10.9032  3.0968]\n",
      "[8243.598 2341.402]\n",
      "[10926.564  3103.436]\n",
      "[3829.3596 1087.6404]\n",
      "[95.7924 27.2076]\n",
      "[218.064  61.936]\n",
      "[39.7188 11.2812]\n"
     ]
    }
   ],
   "source": [
    "# run chi-squared test\n",
    "chi2_res_edu = chi2_contingency(ct_edu)\n",
    "\n",
    "# manual check of frequencies\n",
    "for i in chi2_res_edu.expected_freq:\n",
    "    print(i)"
   ]
  },
  {
   "cell_type": "markdown",
   "metadata": {},
   "source": [
    "Although we have one observation where expected value is < 5, overall we still have enough observations to use the chi-squared test for independence."
   ]
  },
  {
   "cell_type": "code",
   "execution_count": 73,
   "metadata": {},
   "outputs": [
    {
     "name": "stdout",
     "output_type": "stream",
     "text": [
      "\n",
      "Chi-squared test: statistic = 163.21655786997073, p-value = 1.2332626245415605e-32\n"
     ]
    }
   ],
   "source": [
    "print(f\"\\nChi-squared test: statistic = {chi2_res_edu[0]}, p-value = {chi2_res_edu[1]}\")"
   ]
  },
  {
   "cell_type": "markdown",
   "metadata": {},
   "source": [
    "$p=1.23\\times10^{-32} < 0.05 \\therefore$ we reject $H_0$. The percentage of of expected frequencies > 5 is above 80%, so chi-squared test can be considered accurate."
   ]
  },
  {
   "cell_type": "markdown",
   "metadata": {},
   "source": [
    "Let us check the Pearson's residuals to see which cells contribute the most to the chi-squared statistic."
   ]
  },
  {
   "cell_type": "code",
   "execution_count": 74,
   "metadata": {},
   "outputs": [
    {
     "data": {
      "text/html": [
       "<div>\n",
       "<style scoped>\n",
       "    .dataframe tbody tr th:only-of-type {\n",
       "        vertical-align: middle;\n",
       "    }\n",
       "\n",
       "    .dataframe tbody tr th {\n",
       "        vertical-align: top;\n",
       "    }\n",
       "\n",
       "    .dataframe thead th {\n",
       "        text-align: right;\n",
       "    }\n",
       "</style>\n",
       "<table border=\"1\" class=\"dataframe\">\n",
       "  <thead>\n",
       "    <tr style=\"text-align: right;\">\n",
       "      <th>default</th>\n",
       "      <th>0</th>\n",
       "      <th>1</th>\n",
       "    </tr>\n",
       "    <tr>\n",
       "      <th>education</th>\n",
       "      <th></th>\n",
       "      <th></th>\n",
       "    </tr>\n",
       "  </thead>\n",
       "  <tbody>\n",
       "    <tr>\n",
       "      <th>0</th>\n",
       "      <td>0.805729</td>\n",
       "      <td>-1.511796</td>\n",
       "    </tr>\n",
       "    <tr>\n",
       "      <th>1</th>\n",
       "      <td>3.365212</td>\n",
       "      <td>-6.314173</td>\n",
       "    </tr>\n",
       "    <tr>\n",
       "      <th>2</th>\n",
       "      <td>-2.165726</td>\n",
       "      <td>4.063568</td>\n",
       "    </tr>\n",
       "    <tr>\n",
       "      <th>3</th>\n",
       "      <td>-2.412615</td>\n",
       "      <td>4.526808</td>\n",
       "    </tr>\n",
       "    <tr>\n",
       "      <th>4</th>\n",
       "      <td>2.064843</td>\n",
       "      <td>-3.874282</td>\n",
       "    </tr>\n",
       "    <tr>\n",
       "      <th>5</th>\n",
       "      <td>2.975556</td>\n",
       "      <td>-5.583058</td>\n",
       "    </tr>\n",
       "    <tr>\n",
       "      <th>6</th>\n",
       "      <td>0.520746</td>\n",
       "      <td>-0.977080</td>\n",
       "    </tr>\n",
       "  </tbody>\n",
       "</table>\n",
       "</div>"
      ],
      "text/plain": [
       "default           0         1\n",
       "education                    \n",
       "0          0.805729 -1.511796\n",
       "1          3.365212 -6.314173\n",
       "2         -2.165726  4.063568\n",
       "3         -2.412615  4.526808\n",
       "4          2.064843 -3.874282\n",
       "5          2.975556 -5.583058\n",
       "6          0.520746 -0.977080"
      ]
     },
     "execution_count": 74,
     "metadata": {},
     "output_type": "execute_result"
    }
   ],
   "source": [
    "# calculate pearsons residuals\n",
    "residuals_edu = contingency_tables.Table(ct_edu).resid_pearson\n",
    "residuals_edu"
   ]
  },
  {
   "cell_type": "markdown",
   "metadata": {},
   "source": [
    "It seems that the most significant contribution to the chi-squared statistic comes from the 'defaulted' with almost all education levels except for 'doctorate'. \n",
    "\n",
    "So, it seems that the education level is related to the default indicator. Practically speaking, it may be worthy to investigate whether the education level is a good predictor of the default indicator."
   ]
  },
  {
   "cell_type": "markdown",
   "metadata": {},
   "source": [
    "# Marital status"
   ]
  },
  {
   "cell_type": "markdown",
   "metadata": {},
   "source": [
    "Let us check the proprortions in both groups."
   ]
  },
  {
   "cell_type": "code",
   "execution_count": 76,
   "metadata": {},
   "outputs": [
    {
     "data": {
      "image/png": "[encoded data removed]",
      "text/plain": [
       "<Figure size 1600x600 with 2 Axes>"
      ]
     },
     "metadata": {},
     "output_type": "display_data"
    }
   ],
   "source": [
    "# visualize marital status in two groups\n",
    "\n",
    "fig = plt.figure(figsize=(16, 6))\n",
    "ax1 = fig.add_subplot(121)\n",
    "ax2 = fig.add_subplot(122)\n",
    "\n",
    "ax1.hist(defa.marital, bins=5, alpha=0.5, label='default')\n",
    "ax1.hist(nodefa.marital, bins=5, alpha=0.5, label='no default')\n",
    "ax1.set_title('Histogram')\n",
    "ax1.legend()\n",
    "\n",
    "ax2.hist(defa.marital, bins=5, alpha=0.5, label='default', density=True)\n",
    "ax2.hist(nodefa.marital, bins=5, alpha=0.5, label='no default', density=True)\n",
    "ax2.set_title('Density plot')\n",
    "ax2.legend()\n",
    "\n",
    "plt.show()"
   ]
  },
  {
   "cell_type": "markdown",
   "metadata": {},
   "source": [
    "Given that the variable is categorical, we can use a chi-square test to test whether the distribution of the variable is the same in both groups.\n",
    "\n",
    "$H_0$: two groups are drawn from the same distribution  \n",
    "$H_1$: two groups are drawn from different distributions  "
   ]
  },
  {
   "cell_type": "code",
   "execution_count": 77,
   "metadata": {},
   "outputs": [
    {
     "name": "stdout",
     "output_type": "stream",
     "text": [
      "[42.0552 11.9448]\n",
      "[10637.6292  3021.3708]\n",
      "[12432.7632  3531.2368]\n",
      "[251.5524  71.4476]\n",
      "\n",
      "Chi-squared test: statistic = 35.66239583433609, p-value = 8.825862457577375e-08\n"
     ]
    }
   ],
   "source": [
    "# run chi-squared test\n",
    "ct_mar = pd.crosstab(credits.marital, credits.default)\n",
    "\n",
    "chi2_res_mar = chi2_contingency(ct_mar)\n",
    "\n",
    "for i in chi2_res_mar.expected_freq:\n",
    "    print(i)\n",
    "\n",
    "print(f\"\\nChi-squared test: statistic = {chi2_res_mar[0]}, p-value = {chi2_res_mar[1]}\")"
   ]
  },
  {
   "cell_type": "markdown",
   "metadata": {},
   "source": [
    "$p=8.82\\times10^{-8} < 0.05 \\therefore$ we reject $H_0$. The percentage of of expected frequencies > 5 is above 80%, so chi-squared test can be considered accurate."
   ]
  },
  {
   "cell_type": "markdown",
   "metadata": {},
   "source": [
    "Let us also analize the Pearson residuals."
   ]
  },
  {
   "cell_type": "code",
   "execution_count": 78,
   "metadata": {},
   "outputs": [
    {
     "data": {
      "text/html": [
       "<div>\n",
       "<style scoped>\n",
       "    .dataframe tbody tr th:only-of-type {\n",
       "        vertical-align: middle;\n",
       "    }\n",
       "\n",
       "    .dataframe tbody tr th {\n",
       "        vertical-align: top;\n",
       "    }\n",
       "\n",
       "    .dataframe thead th {\n",
       "        text-align: right;\n",
       "    }\n",
       "</style>\n",
       "<table border=\"1\" class=\"dataframe\">\n",
       "  <thead>\n",
       "    <tr style=\"text-align: right;\">\n",
       "      <th>default</th>\n",
       "      <th>0</th>\n",
       "      <th>1</th>\n",
       "    </tr>\n",
       "    <tr>\n",
       "      <th>marital</th>\n",
       "      <th></th>\n",
       "      <th></th>\n",
       "    </tr>\n",
       "  </thead>\n",
       "  <tbody>\n",
       "    <tr>\n",
       "      <th>0</th>\n",
       "      <td>1.070902</td>\n",
       "      <td>-2.009418</td>\n",
       "    </tr>\n",
       "    <tr>\n",
       "      <th>1</th>\n",
       "      <td>-1.790103</td>\n",
       "      <td>3.358910</td>\n",
       "    </tr>\n",
       "    <tr>\n",
       "      <th>2</th>\n",
       "      <td>1.706124</td>\n",
       "      <td>-3.201335</td>\n",
       "    </tr>\n",
       "    <tr>\n",
       "      <th>3</th>\n",
       "      <td>-0.791430</td>\n",
       "      <td>1.485022</td>\n",
       "    </tr>\n",
       "  </tbody>\n",
       "</table>\n",
       "</div>"
      ],
      "text/plain": [
       "default         0         1\n",
       "marital                    \n",
       "0        1.070902 -2.009418\n",
       "1       -1.790103  3.358910\n",
       "2        1.706124 -3.201335\n",
       "3       -0.791430  1.485022"
      ]
     },
     "execution_count": 78,
     "metadata": {},
     "output_type": "execute_result"
    }
   ],
   "source": [
    "# calculate pearsons residuals\n",
    "residuals_gen = contingency_tables.Table(ct_mar).resid_pearson\n",
    "residuals_gen"
   ]
  },
  {
   "cell_type": "markdown",
   "metadata": {},
   "source": [
    "As we can see, the most significant contribution to the chi-squared statistic comes from the 'defaulted' group with 'married' and 'single' marital status."
   ]
  },
  {
   "cell_type": "markdown",
   "metadata": {},
   "source": [
    "Alternatively, we can use permutation test for independence"
   ]
  },
  {
   "cell_type": "code",
   "execution_count": null,
   "metadata": {},
   "outputs": [
    {
     "name": "stdout",
     "output_type": "stream",
     "text": [
      "Permutation test: t = 35.662396, p = 0.000100\n"
     ]
    }
   ],
   "source": [
    "res_perm_mar = permutation_test_cat_ind(credits.marital.values, credits.default.values, \n",
    "                               max_permutations = 10000, return_distr = True)\n",
    "\n",
    "print(\"Permutation test: t = %f, p = %f\" % (res_perm_mar['t'], res_perm_mar['p']))"
   ]
  },
  {
   "cell_type": "markdown",
   "metadata": {},
   "source": [
    "$p=0.0001 < 0.05 \\therefore$ we reject $H_0$. Let us also check the null distribution of the test statistic."
   ]
  },
  {
   "cell_type": "code",
   "execution_count": 79,
   "metadata": {},
   "outputs": [
    {
     "data": {
      "image/png": "[encoded data removed]",
      "text/plain": [
       "<Figure size 640x480 with 1 Axes>"
      ]
     },
     "metadata": {},
     "output_type": "display_data"
    }
   ],
   "source": [
    "# We also need to check the null distribution of the test statistic\n",
    "plt.hist(res_perm_mar['null_distr'], bins = 100)\n",
    "plt.xlim(0, 10)\n",
    "plt.title('Null distribution')\n",
    "plt.show()"
   ]
  },
  {
   "cell_type": "markdown",
   "metadata": {},
   "source": [
    "# Age"
   ]
  },
  {
   "cell_type": "markdown",
   "metadata": {},
   "source": [
    "Let us first compare sample distributions visually."
   ]
  },
  {
   "cell_type": "code",
   "execution_count": 80,
   "metadata": {},
   "outputs": [
    {
     "data": {
      "image/png": "[encoded data removed]",
      "text/plain": [
       "<Figure size 1600x600 with 3 Axes>"
      ]
     },
     "metadata": {},
     "output_type": "display_data"
    }
   ],
   "source": [
    "compare_distributions('age')"
   ]
  },
  {
   "cell_type": "markdown",
   "metadata": {},
   "source": [
    "Although the distributions are not normal, we can still use a t-test to test whether the means of the two groups are the same. The sample is large, so the central limit theorem applies. Hence, right skew should not be a problem given the sample size.\n",
    "\n",
    "Now, let's check if there is a difference in age between the two groups. First let us find the point estimate for the mean, then find the 95% confidence interval for the mean using bootstrap."
   ]
  },
  {
   "cell_type": "code",
   "execution_count": null,
   "metadata": {},
   "outputs": [
    {
     "name": "stdout",
     "output_type": "stream",
     "text": [
      "Defaulted mean (point estimate): 35.72573839662447\n",
      "Not defaulted mean (point estimate): 35.417265879130284\n",
      "\n",
      "Defaulted mean confint: [35.49605937 35.95931661]\n",
      "Not defaulted mean confint: [35.29860469 35.5382747 ]\n"
     ]
    }
   ],
   "source": [
    "# point estimate\n",
    "defa_mean, nodefa_mean = np.mean(defa.age.values), np.mean(nodefa.age.values)\n",
    "print(f\"Defaulted mean (point estimate): {defa_mean}\\nNot defaulted mean (point estimate): {nodefa_mean}\\n\")\n",
    "\n",
    "# bootstrap\n",
    "defa_mean_scores = list(map(np.mean, get_bootstrap_samples(defa.age.values, 5000)))\n",
    "nodefa_mean_scores = list(map(np.mean, get_bootstrap_samples(nodefa.age.values, 5000)))\n",
    "\n",
    "# confidence interval\n",
    "defa_mean_confint, nodefa_mean_confint = get_stat_intervals(defa_mean_scores, 0.05), get_stat_intervals(nodefa_mean_scores, 0.05)\n",
    "print(f\"Defaulted mean confint: {defa_mean_confint}\\nNot defaulted mean confint: {nodefa_mean_confint}\")\n"
   ]
  },
  {
   "cell_type": "markdown",
   "metadata": {},
   "source": [
    "Now let us run the t-test.\n",
    "\n",
    "$H_0$: the means of the two groups are the same\n",
    "$H_1$: the means of the two groups are not the same"
   ]
  },
  {
   "cell_type": "code",
   "execution_count": null,
   "metadata": {},
   "outputs": [
    {
     "name": "stdout",
     "output_type": "stream",
     "text": [
      "t-test: TtestResult(statistic=2.3195212416592628, pvalue=0.020386490255874648, df=10172.553086166805)\n"
     ]
    }
   ],
   "source": [
    "# run t-test for two independent samples\n",
    "print(f\"t-test: {ttest_ind(defa.age, nodefa.age, alternative='two-sided', equal_var=False)}\")"
   ]
  },
  {
   "cell_type": "markdown",
   "metadata": {},
   "source": [
    "$p < 0.05$, so we reject the null hypothesis that the means are equal. However, we fail to reject the H_0 at 0.01 confidence level."
   ]
  },
  {
   "cell_type": "markdown",
   "metadata": {},
   "source": [
    "Alternatively, we can run a non-parametric permutation test for two independent samples (since the distribution is not normal)"
   ]
  },
  {
   "cell_type": "code",
   "execution_count": null,
   "metadata": {},
   "outputs": [
    {
     "data": {
      "text/plain": [
       "{'t': 0.308472517494188, 'p': 0.0191}"
      ]
     },
     "execution_count": 53,
     "metadata": {},
     "output_type": "execute_result"
    }
   ],
   "source": [
    "permutation_test_2s(defa.age, nodefa.age, max_permutations = 10000, return_distr = False)"
   ]
  },
  {
   "cell_type": "markdown",
   "metadata": {},
   "source": [
    "$p < 0.05$, so we reject the null hypothesis that the means are equal. The difference is statistically significant, and confirms the result of the t-test."
   ]
  },
  {
   "cell_type": "markdown",
   "metadata": {},
   "source": [
    "Although the difference in means may not huge, it it still statistically significant. Practical significance, however, is questionable - the difference is less than 0.5 years."
   ]
  }
 ],
 "metadata": {
  "kernelspec": {
   "display_name": "base",
   "language": "python",
   "name": "python3"
  },
  "language_info": {
   "codemirror_mode": {
    "name": "ipython",
    "version": 3
   },
   "file_extension": ".py",
   "mimetype": "text/x-python",
   "name": "python",
   "nbconvert_exporter": "python",
   "pygments_lexer": "ipython3",
   "version": "3.9.12"
  },
  "orig_nbformat": 4
 },
 "nbformat": 4,
 "nbformat_minor": 2
}
