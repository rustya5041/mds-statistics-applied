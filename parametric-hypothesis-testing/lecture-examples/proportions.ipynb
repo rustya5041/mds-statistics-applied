{
 "cells": [
  {
   "cell_type": "code",
   "execution_count": 3,
   "metadata": {},
   "outputs": [],
   "source": [
    "import numpy as np\n",
    "import scipy as sc\n",
    "from matplotlib import pyplot as plt\n",
    "\n",
    "from statsmodels.stats.proportion import proportion_confint, proportions_ztest, \\\n",
    "confint_proportions_2indep, test_proportions_2indep"
   ]
  },
  {
   "cell_type": "markdown",
   "metadata": {},
   "source": [
    "## One sample"
   ]
  },
  {
   "cell_type": "markdown",
   "metadata": {},
   "source": [
    "In episode 5 of season 13 of Mythbusters they tested the expression \"know something like the back of one's hand\". \n",
    "\n",
    "12 subjects tried to select a photo of their hand from 10 similar pictures.\n",
    "11 of 12 subjects selected their own hand. "
   ]
  },
  {
   "cell_type": "markdown",
   "metadata": {},
   "source": [
    "### Confidence interval\n",
    "Confidence interval for the proportion of people knowing what the back of their hand looks like:"
   ]
  },
  {
   "cell_type": "code",
   "execution_count": 4,
   "metadata": {},
   "outputs": [
    {
     "name": "stdout",
     "output_type": "stream",
     "text": [
      "Wald's interval: (0.7602897792479355, 1.0)\n",
      "Wilson's interval: (0.646120088858883, 0.9851349055950829)\n"
     ]
    }
   ],
   "source": [
    "print(\"Wald's interval:\", proportion_confint(11, 12, method = 'normal'))\n",
    "print(\"Wilson's interval:\", proportion_confint(11, 12, method = 'wilson'))"
   ]
  },
  {
   "cell_type": "markdown",
   "metadata": {},
   "source": [
    "In this implementation of the Wald's interval the result is trimmed so both limits are within [0,1].\n",
    "\n",
    "How many subjects do we need to test if we want an estimate with +- 5% precision (i.e., 95% confidence interval of the width up to 10%)? statsmodels has a function to calculate that (only for Wald's method, unfortunately):"
   ]
  },
  {
   "cell_type": "code",
   "execution_count": 5,
   "metadata": {},
   "outputs": [],
   "source": [
    "from statsmodels.stats.proportion import samplesize_confint_proportion"
   ]
  },
  {
   "cell_type": "markdown",
   "metadata": {},
   "source": [
    "That number of subjects depends on the unknown true proprotion that we are trying to estimate; let's plot sample size as a function of the unknown proportion:"
   ]
  },
  {
   "cell_type": "code",
   "execution_count": 6,
   "metadata": {},
   "outputs": [
    {
     "data": {
      "image/png": "[encoded data removed]",
      "text/plain": [
       "<Figure size 640x480 with 1 Axes>"
      ]
     },
     "metadata": {},
     "output_type": "display_data"
    }
   ],
   "source": [
    "prop = np.arange(0.01, 0.99, 0.01)\n",
    "n = [np.ceil(samplesize_confint_proportion(p, 0.05)) for p in prop]\n",
    "\n",
    "plt.plot(prop, n);"
   ]
  },
  {
   "cell_type": "markdown",
   "metadata": {},
   "source": [
    "### Test\n",
    "\n",
    "Let's test a hypothesis now!\n",
    "\n",
    "$H_0$: people do not know what backs of their hands look like and are guessing at random ($p=0.1$).\n",
    "\n",
    "$H_1$: people are able to select a picture of their own hand better than at random ($p>0.1$)."
   ]
  },
  {
   "cell_type": "code",
   "execution_count": 7,
   "metadata": {},
   "outputs": [
    {
     "name": "stdout",
     "output_type": "stream",
     "text": [
      "Z test: (10.235766170195031, 6.85528054545589e-25)\n"
     ]
    }
   ],
   "source": [
    "print('Z test:', proportions_ztest(11, 12, value = 0.1, alternative='larger'))"
   ]
  },
  {
   "cell_type": "markdown",
   "metadata": {},
   "source": [
    "The function outputs the value of Z statistic and the corersponding p-value."
   ]
  },
  {
   "cell_type": "markdown",
   "metadata": {},
   "source": [
    "## Two samples, independent"
   ]
  },
  {
   "cell_type": "markdown",
   "metadata": {},
   "source": [
    "The same experiment was run with the pictures of palms. 7 of 12 subjects selected a picture of their own palm. "
   ]
  },
  {
   "cell_type": "markdown",
   "metadata": {},
   "source": [
    "### Confidence interval\n",
    "\n",
    "Confidence interval for the difference in proportions of people knowing back of their hands and palms:"
   ]
  },
  {
   "cell_type": "code",
   "execution_count": 8,
   "metadata": {},
   "outputs": [
    {
     "name": "stdout",
     "output_type": "stream",
     "text": [
      "Wald's interval: (0.013550506137431695, 0.6531161605292348)\n"
     ]
    }
   ],
   "source": [
    "print(\"Wald's interval:\", confint_proportions_2indep(11, 12, 7, 12, method = 'wald', compare='diff'))"
   ]
  },
  {
   "cell_type": "markdown",
   "metadata": {},
   "source": [
    "In theory, the same function implements Wilson's interval too. In practice, at the moment (statsmodels version 0.12.0) this function does not work:"
   ]
  },
  {
   "cell_type": "code",
   "execution_count": 11,
   "metadata": {},
   "outputs": [
    {
     "ename": "ValueError",
     "evalue": "f(a) and f(b) must have different signs",
     "output_type": "error",
     "traceback": [
      "\u001b[0;31m---------------------------------------------------------------------------\u001b[0m",
      "\u001b[0;31mValueError\u001b[0m                                Traceback (most recent call last)",
      "\u001b[1;32m/Users/rustya/Desktop/Applied stats/w2/lecture-examples/proportions.ipynb Cell 18\u001b[0m line \u001b[0;36m1\n\u001b[0;32m----> <a href='vscode-notebook-cell:/Users/rustya/Desktop/Applied%20stats/w2/lecture-examples/proportions.ipynb#X23sZmlsZQ%3D%3D?line=0'>1</a>\u001b[0m \u001b[39mprint\u001b[39m(\u001b[39m\"\u001b[39m\u001b[39mWilson\u001b[39m\u001b[39m'\u001b[39m\u001b[39ms interval:\u001b[39m\u001b[39m\"\u001b[39m, confint_proportions_2indep(\u001b[39m11\u001b[39m, \u001b[39m12\u001b[39m, \u001b[39m7\u001b[39m, \u001b[39m12\u001b[39m, method \u001b[39m=\u001b[39m \u001b[39m'\u001b[39m\u001b[39mscore\u001b[39m\u001b[39m'\u001b[39m, compare\u001b[39m=\u001b[39m\u001b[39m'\u001b[39m\u001b[39mdiff\u001b[39m\u001b[39m'\u001b[39m))\n",
      "File \u001b[0;32m/Applications/anaconda3/lib/python3.9/site-packages/statsmodels/stats/proportion.py:1177\u001b[0m, in \u001b[0;36mconfint_proportions_2indep\u001b[0;34m(count1, nobs1, count2, nobs2, method, compare, alpha, correction)\u001b[0m\n\u001b[1;32m   1174\u001b[0m     upp \u001b[39m=\u001b[39m diff \u001b[39m+\u001b[39m d_upp\n\u001b[1;32m   1176\u001b[0m \u001b[39melif\u001b[39;00m method \u001b[39m==\u001b[39m \u001b[39m\"\u001b[39m\u001b[39mscore\u001b[39m\u001b[39m\"\u001b[39m:\n\u001b[0;32m-> 1177\u001b[0m     low, upp \u001b[39m=\u001b[39m _score_confint_inversion(count1, nobs1, count2, nobs2,\n\u001b[1;32m   1178\u001b[0m                                         compare\u001b[39m=\u001b[39;49mcompare, alpha\u001b[39m=\u001b[39;49malpha,\n\u001b[1;32m   1179\u001b[0m                                         correction\u001b[39m=\u001b[39;49mcorrection)\n\u001b[1;32m   1181\u001b[0m \u001b[39melse\u001b[39;00m:\n\u001b[1;32m   1182\u001b[0m     \u001b[39mraise\u001b[39;00m \u001b[39mValueError\u001b[39;00m(\u001b[39m'\u001b[39m\u001b[39mmethod not recognized\u001b[39m\u001b[39m'\u001b[39m)\n",
      "File \u001b[0;32m/Applications/anaconda3/lib/python3.9/site-packages/statsmodels/stats/proportion.py:2046\u001b[0m, in \u001b[0;36m_score_confint_inversion\u001b[0;34m(count1, nobs1, count2, nobs2, compare, alpha, correction)\u001b[0m\n\u001b[1;32m   2044\u001b[0m \u001b[39m# root finding for confint bounds\u001b[39;00m\n\u001b[1;32m   2045\u001b[0m upp \u001b[39m=\u001b[39m optimize\u001b[39m.\u001b[39mbrentq(func, param, ub)\n\u001b[0;32m-> 2046\u001b[0m low \u001b[39m=\u001b[39m optimize\u001b[39m.\u001b[39;49mbrentq(func, lb, param)\n\u001b[1;32m   2047\u001b[0m \u001b[39mreturn\u001b[39;00m low, upp\n",
      "File \u001b[0;32m/Applications/anaconda3/lib/python3.9/site-packages/scipy/optimize/_zeros_py.py:799\u001b[0m, in \u001b[0;36mbrentq\u001b[0;34m(f, a, b, args, xtol, rtol, maxiter, full_output, disp)\u001b[0m\n\u001b[1;32m    797\u001b[0m     \u001b[39mraise\u001b[39;00m \u001b[39mValueError\u001b[39;00m(\u001b[39mf\u001b[39m\u001b[39m\"\u001b[39m\u001b[39mrtol too small (\u001b[39m\u001b[39m{\u001b[39;00mrtol\u001b[39m:\u001b[39;00m\u001b[39mg\u001b[39m\u001b[39m}\u001b[39;00m\u001b[39m < \u001b[39m\u001b[39m{\u001b[39;00m_rtol\u001b[39m:\u001b[39;00m\u001b[39mg\u001b[39m\u001b[39m}\u001b[39;00m\u001b[39m)\u001b[39m\u001b[39m\"\u001b[39m)\n\u001b[1;32m    798\u001b[0m f \u001b[39m=\u001b[39m _wrap_nan_raise(f)\n\u001b[0;32m--> 799\u001b[0m r \u001b[39m=\u001b[39m _zeros\u001b[39m.\u001b[39;49m_brentq(f, a, b, xtol, rtol, maxiter, args, full_output, disp)\n\u001b[1;32m    800\u001b[0m \u001b[39mreturn\u001b[39;00m results_c(full_output, r)\n",
      "\u001b[0;31mValueError\u001b[0m: f(a) and f(b) must have different signs"
     ]
    }
   ],
   "source": [
    "print(\"Wilson's interval:\", confint_proportions_2indep(11, 12, 7, 12, method = 'score', compare='diff'))"
   ]
  },
  {
   "cell_type": "markdown",
   "metadata": {},
   "source": [
    "Oh well! Did I mention that anything statistics related works much better in R?"
   ]
  },
  {
   "cell_type": "markdown",
   "metadata": {},
   "source": [
    "### Test\n",
    "\n",
    "$𝐻_0$ : the same proportion of people are able to select a picture of their palms and backs of their hands( $p_1=p_2$ ).\n",
    "\n",
    "$𝐻_1$ : people are more likely to identify a picture of the back of their hand than of the palm  ( $p_1>p_2$ )."
   ]
  },
  {
   "cell_type": "code",
   "execution_count": 8,
   "metadata": {},
   "outputs": [
    {
     "name": "stdout",
     "output_type": "stream",
     "text": [
      "Z test: statistic = 2.0430156738209964\n",
      "pvalue = 0.020525443280229438\n",
      "compare = diff\n",
      "method = wald\n",
      "diff = 0.33333333333333326\n",
      "ratio = 1.5714285714285712\n",
      "odds_ratio = 7.857142857142852\n",
      "variance = 0.026620370370370374\n",
      "alternative = larger\n",
      "value = 0\n",
      "tuple = (2.0430156738209964, 0.020525443280229438)\n"
     ]
    }
   ],
   "source": [
    "print(\"Z test:\", test_proportions_2indep(11, 12, 7, 12, alternative = 'larger',\n",
    "                                          method = 'wald',  return_results=True))"
   ]
  },
  {
   "cell_type": "code",
   "execution_count": 9,
   "metadata": {},
   "outputs": [
    {
     "name": "stdout",
     "output_type": "stream",
     "text": [
      "Wilson's interval based test: (1.845916413981794, 0.0324521714914821)\n"
     ]
    }
   ],
   "source": [
    "print(\"Wilson's interval based test:\", \n",
    "      test_proportions_2indep(11, 12, 7, 12, alternative = 'larger', \n",
    "                              method = 'score', correction=False, return_results=False))"
   ]
  },
  {
   "cell_type": "markdown",
   "metadata": {},
   "source": [
    "## Two samples, paired"
   ]
  },
  {
   "cell_type": "markdown",
   "metadata": {},
   "source": [
    "We could use confidence interval for paired samples, but the problem is that we don't know the pairings (i.e., how many people correctly guessed the palm, but not back, and vice versa. \n",
    "\n",
    "Given our samples though, there aren't that many options!  \n",
    "\n",
    "Option one:\n",
    "\n",
    "| Back \\ Palm | Right | Wrong | Total |\n",
    "|-------------|-------|-------|-------|\n",
    "| Right       | 6     | 5     | 11    |\n",
    "| Wrong       | 1     | 0     | 1     |\n",
    "| Total       | 7     | 5     | 12    | \n",
    "\n",
    "Option two:\n",
    "\n",
    "| Back \\ Palm | Right | Wrong | Total |\n",
    "|-------------|-------|-------|-------|\n",
    "| Right       | 7     | 4     | 11    |\n",
    "| Wrong       | 0     | 1     | 1     |\n",
    "| Total       | 7     | 5     | 12    | \n",
    "\n",
    "There are no other tables that have the same marginal totals."
   ]
  },
  {
   "cell_type": "markdown",
   "metadata": {},
   "source": [
    "### Confidence interval\n",
    "\n",
    "Let's build confidence intervals for differences in proportions for both!"
   ]
  },
  {
   "cell_type": "code",
   "execution_count": 10,
   "metadata": {},
   "outputs": [
    {
     "name": "stdout",
     "output_type": "stream",
     "text": [
      "Wald's interval for option 1: (-0.019500510056176756, 0.6861671767228434)\n",
      "Wald's interval for option 2: (0.06661601798026057, 0.6000506486864061)\n"
     ]
    }
   ],
   "source": [
    "def confint_proportions_2paired_wald(b, c, n, alpha = 0.05):\n",
    "    z = sc.stats.norm.ppf(1 - alpha / 2.)\n",
    " \n",
    "    CI_l = float(b - c) / n  - z * np.sqrt(float((b + c)) / n**2 - float((b - c)**2) / n**3)\n",
    "    CI_u = float(b - c) / n  + z * np.sqrt(float((b + c)) / n**2 - float((b - c)**2) / n**3)\n",
    "    return (CI_l, CI_u)\n",
    "\n",
    "print(\"Wald's interval for option 1:\", confint_proportions_2paired_wald(5, 1, 12))\n",
    "print(\"Wald's interval for option 2:\", confint_proportions_2paired_wald(4, 0, 12))"
   ]
  },
  {
   "cell_type": "markdown",
   "metadata": {},
   "source": [
    "### Tests\n",
    "We'll test the same hypothesis now, but using a test for paired samples!\n",
    "\n",
    "$𝐻_0$ : the same proportion of people are able to select a picture of their palms and backs of their hands( $p_1=p_2$ ).\n",
    "\n",
    "$𝐻_1$ : people are more likely to identify a picture of the back of their hand than of the palm  ( $p_1>p_2$ )."
   ]
  },
  {
   "cell_type": "code",
   "execution_count": 11,
   "metadata": {},
   "outputs": [
    {
     "name": "stdout",
     "output_type": "stream",
     "text": [
      "Z test for option 1: (1.8516401995451028, 0.03203875322552974)\n",
      "Z test for option 2: (2.449489742783178, 0.007152939217714871)\n"
     ]
    }
   ],
   "source": [
    "def test_proportions_2paired_wald(b, c, n, alternative = 'two-sided'):  \n",
    "    if alternative not in ('two-sided', 'smaller', 'larger'):\n",
    "        raise ValueError(\"alternative not recognized\\n\"\n",
    "                         \"should be 'two-sided', 'smaller' or 'larger'\")\n",
    "        \n",
    "    z = float(b - c) / np.sqrt(b + c - float((b - c)**2) / n )\n",
    "    \n",
    "    if alternative == 'two-sided':\n",
    "        p = 2 * (1 - sc.stats.norm.cdf(np.abs(z)))\n",
    "    \n",
    "    if alternative == 'smaller':\n",
    "        p = sc.stats.norm.cdf(z)\n",
    "\n",
    "    if alternative == 'larger':\n",
    "        p = 1 - sc.stats.norm.cdf(z)\n",
    "    \n",
    "    return(z,p)\n",
    "    \n",
    "print(\"Z test for option 1:\", test_proportions_2paired_wald(5, 1, 12, alternative = 'larger'))\n",
    "print(\"Z test for option 2:\", test_proportions_2paired_wald(4, 0, 12, alternative = 'larger'))"
   ]
  }
 ],
 "metadata": {
  "anaconda-cloud": {},
  "kernelspec": {
   "display_name": "Python 3",
   "language": "python",
   "name": "python3"
  },
  "language_info": {
   "codemirror_mode": {
    "name": "ipython",
    "version": 3
   },
   "file_extension": ".py",
   "mimetype": "text/x-python",
   "name": "python",
   "nbconvert_exporter": "python",
   "pygments_lexer": "ipython3",
   "version": "3.9.12"
  }
 },
 "nbformat": 4,
 "nbformat_minor": 1
}
