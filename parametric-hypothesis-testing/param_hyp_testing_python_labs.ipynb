{
 "cells": [
  {
   "cell_type": "code",
   "execution_count": 3,
   "metadata": {},
   "outputs": [],
   "source": [
    "import numpy as np\n",
    "import pandas as pd\n",
    "from sklearn.metrics import mean_absolute_error\n",
    "from scipy.stats import ttest_ind, ttest_1samp, ttest_rel, binned_statistic_2d, chisquare, norm\n",
    "import statsmodels.stats.api as sms\n",
    "import matplotlib.pyplot as plt\n"
   ]
  },
  {
   "cell_type": "code",
   "execution_count": 4,
   "metadata": {},
   "outputs": [
    {
     "data": {
      "text/markdown": [
       "\n",
       "# gmat\n"
      ],
      "text/plain": [
       "<IPython.core.display.Markdown object>"
      ]
     },
     "metadata": {},
     "output_type": "display_data"
    }
   ],
   "source": [
    "%%markdown\n",
    "# gmat"
   ]
  },
  {
   "cell_type": "code",
   "execution_count": 5,
   "metadata": {},
   "outputs": [
    {
     "data": {
      "text/plain": [
       "0.0505"
      ]
     },
     "execution_count": 5,
     "metadata": {},
     "output_type": "execute_result"
    }
   ],
   "source": [
    "# Every year more than 200000 people aroung the world take GMAT exam to enter MBA programs. \n",
    "# The average score is 525 points, standard deviation – 100 points. \n",
    "# A hundred students of a GMAT passed the exam; theis average score is 541.4 points.\n",
    "\n",
    "# Test the hypothesis of inefficiency of the program against one-sided alternative that it helps students. Do you reject the null at 0.05?\n",
    "\n",
    "# Enter the p-value you got rounded to 4 decimal points.\n",
    "\n",
    "z = (541.4 - 525) / (100 / 10)\n",
    "p = 1 - norm.cdf(z)\n",
    "\n",
    "np.round(p, 4)"
   ]
  },
  {
   "cell_type": "code",
   "execution_count": 6,
   "metadata": {},
   "outputs": [
    {
     "data": {
      "text/plain": [
       "0.0495"
      ]
     },
     "execution_count": 6,
     "metadata": {},
     "output_type": "execute_result"
    }
   ],
   "source": [
    "# Now evaluate the efficiency of another GMAT preparation study group with the average score of 100 students of 541.5 points, use the same alternative. \n",
    "# Do you reject the null at 0.05?\n",
    "# Enter the p-value you got rounded to 4 decimal points.\n",
    "\n",
    "z = (541.5 - 525) / (100 / 10)\n",
    "p = 1 - norm.cdf(z)\n",
    "\n",
    "np.round(p, 4)"
   ]
  },
  {
   "cell_type": "code",
   "execution_count": 7,
   "metadata": {},
   "outputs": [
    {
     "data": {
      "text/markdown": [
       "\n",
       "# aspirin\n"
      ],
      "text/plain": [
       "<IPython.core.display.Markdown object>"
      ]
     },
     "metadata": {},
     "output_type": "display_data"
    }
   ],
   "source": [
    "%%markdown\n",
    "# aspirin"
   ]
  },
  {
   "cell_type": "code",
   "execution_count": 8,
   "metadata": {},
   "outputs": [
    {
     "data": {
      "text/plain": [
       "0.0077"
      ]
     },
     "execution_count": 8,
     "metadata": {},
     "output_type": "execute_result"
    }
   ],
   "source": [
    "# In a 5 year randomized trial by Harvard Medical School researchers, 11037 subjects were taking aspirin every other day, \n",
    "# and 11034 subjects were taking placebo. In the treatment group, 104 subjects had heart attacks during those 5 years; \n",
    "# in the control group – 189 subjects.\n",
    "\n",
    "# Estimate how much the probability of a heart attack decreases for the aspirin group. Provide the answer with 4 decimal points.\n",
    "\n",
    "np.round((189 / 11034) - (104 / 11037),4)"
   ]
  },
  {
   "cell_type": "code",
   "execution_count": 23,
   "metadata": {},
   "outputs": [
    {
     "name": "stdout",
     "output_type": "stream",
     "text": [
      "Wald's interval: 0.0107\n"
     ]
    }
   ],
   "source": [
    "# Calculate a 95% Wald's confidence interval for the decrease in probability of a heart attack associated with taking aspirin. \n",
    "# What is its upper bound? Round the answer to 4 decimal points.\n",
    "\n",
    "print(f\"Wald's interval: {np.round(sms.confint_proportions_2indep(189, 11034, 104, 11037, method = 'wald', compare='diff')[1], 4)}\")"
   ]
  },
  {
   "cell_type": "code",
   "execution_count": 27,
   "metadata": {},
   "outputs": [
    {
     "data": {
      "text/plain": [
       "(5.00127490046852, 5.69524362691927e-07)"
      ]
     },
     "execution_count": 27,
     "metadata": {},
     "output_type": "execute_result"
    }
   ],
   "source": [
    "# Test the hypothesis of equal proportions against two-sided alternative with Z-test based on Wilson's interval. What p-value do you get? \n",
    "# Enter the number of the first significant digit in the p-value\n",
    "\n",
    "sms.test_proportions_2indep(189, 11034, 104, 11037, alternative = 'two-sided', method = 'score', return_results=False) # --> answer 7"
   ]
  },
  {
   "cell_type": "code",
   "execution_count": 28,
   "metadata": {},
   "outputs": [
    {
     "data": {
      "text/plain": [
       "1.8321"
      ]
     },
     "execution_count": 28,
     "metadata": {},
     "output_type": "execute_result"
    }
   ],
   "source": [
    "# Estimate how many times lower are the odds of a heart attack for people who regularly take aspirin. \n",
    "# Provide the answer rounded to 4 decimal points.\n",
    "\n",
    "np.round((189 / (11034 - 189)) / (104 / (11037 - 104)), 4)"
   ]
  },
  {
   "cell_type": "code",
   "execution_count": 31,
   "metadata": {},
   "outputs": [
    {
     "data": {
      "text/plain": [
       "array([1.46286276, 2.35093673])"
      ]
     },
     "execution_count": 31,
     "metadata": {},
     "output_type": "execute_result"
    }
   ],
   "source": [
    "# The variable you estimated in the previous question is called odds ratio. Calculate 95% confidence interval for it with bootstrap. \n",
    "# What is its lower bound? Provide the answer with 4 decimal points.\n",
    "\n",
    "# To get exactly the same results as we did:\n",
    "# use get_bootstrap_samples and percentile_interval functions from the example notebook\n",
    "# set random seed = 0 before calling get_bootstrap_samples, once\n",
    "# use 1000 bootstrap resamples from each sample\n",
    "\n",
    "\n",
    "np.random.seed(0)\n",
    "\n",
    "def get_bootstrap_samples(data, n_samples):\n",
    "    indices = np.random.randint(0, len(data), (n_samples, len(data)))\n",
    "    samples = data[indices]\n",
    "    return samples\n",
    "\n",
    "def percentile_interval(data, alpha):\n",
    "    boundaries = np.percentile(data, [100 * alpha / 2., 100 * (1 - alpha / 2.)])\n",
    "    return boundaries\n",
    "\n",
    "def odds(data):\n",
    "    p = float(sum(data)) / len(data)\n",
    "    return p / (1-p)\n",
    "\n",
    "placebo = np.concatenate([np.ones(189), np.zeros(11034-189)])\n",
    "aspirin = np.concatenate([np.ones(104), np.zeros(11037-104)])\n",
    "\n",
    "placebo_odds = list(map(odds, get_bootstrap_samples(placebo, 1000)))\n",
    "aspirin_odds = list(map(odds, get_bootstrap_samples(aspirin, 1000)))\n",
    "\n",
    "ORs = np.array(placebo_odds) / np.array(aspirin_odds)\n",
    "percentile_interval(ORs, 0.05)"
   ]
  },
  {
   "cell_type": "code",
   "execution_count": 32,
   "metadata": {},
   "outputs": [
    {
     "data": {
      "text/markdown": [
       "# aspirin\n"
      ],
      "text/plain": [
       "<IPython.core.display.Markdown object>"
      ]
     },
     "metadata": {},
     "output_type": "display_data"
    }
   ],
   "source": [
    "%%markdown\n",
    "# aspirin"
   ]
  },
  {
   "cell_type": "code",
   "execution_count": 33,
   "metadata": {},
   "outputs": [
    {
     "data": {
      "text/plain": [
       "0.0269"
      ]
     },
     "execution_count": 33,
     "metadata": {},
     "output_type": "execute_result"
    }
   ],
   "source": [
    "# For healthy young women average level of calcium in blood is 9.5 mg per deciliter with the typical standard deviation of 0.4 mg/dl.\n",
    "# In a rural hospital in Guatemala for 160 healthy women on early stages of pregnancy blood calcium level was measured; \n",
    "# the average was 9.57 mg/dl. Does the average level differ from 9.5?\n",
    "\n",
    "# Calculate the p-value, round it up to 4 decimal places.\n",
    "\n",
    "z = (9.57 - 9.5) / (0.4 / np.sqrt(160))\n",
    "p = 2 * (1 - norm.cdf(z))\n",
    "\n",
    "np.round(p, 4)"
   ]
  },
  {
   "cell_type": "code",
   "execution_count": 4,
   "metadata": {},
   "outputs": [
    {
     "data": {
      "text/markdown": [
       "# diamond prices\n"
      ],
      "text/plain": [
       "<IPython.core.display.Markdown object>"
      ]
     },
     "metadata": {},
     "output_type": "display_data"
    }
   ],
   "source": [
    "%%markdown\n",
    "# diamond prices"
   ]
  },
  {
   "cell_type": "code",
   "execution_count": 5,
   "metadata": {},
   "outputs": [
    {
     "data": {
      "text/html": [
       "<div>\n",
       "<style scoped>\n",
       "    .dataframe tbody tr th:only-of-type {\n",
       "        vertical-align: middle;\n",
       "    }\n",
       "\n",
       "    .dataframe tbody tr th {\n",
       "        vertical-align: top;\n",
       "    }\n",
       "\n",
       "    .dataframe thead th {\n",
       "        text-align: right;\n",
       "    }\n",
       "</style>\n",
       "<table border=\"1\" class=\"dataframe\">\n",
       "  <thead>\n",
       "    <tr style=\"text-align: right;\">\n",
       "      <th></th>\n",
       "      <th>price</th>\n",
       "      <th>predicted_price_lm</th>\n",
       "      <th>predicted_price_gbdt</th>\n",
       "    </tr>\n",
       "  </thead>\n",
       "  <tbody>\n",
       "    <tr>\n",
       "      <th>0</th>\n",
       "      <td>564</td>\n",
       "      <td>747.149466</td>\n",
       "      <td>799.049243</td>\n",
       "    </tr>\n",
       "    <tr>\n",
       "      <th>1</th>\n",
       "      <td>5914</td>\n",
       "      <td>6644.569397</td>\n",
       "      <td>6635.491541</td>\n",
       "    </tr>\n",
       "    <tr>\n",
       "      <th>2</th>\n",
       "      <td>2562</td>\n",
       "      <td>2096.573114</td>\n",
       "      <td>2138.584133</td>\n",
       "    </tr>\n",
       "    <tr>\n",
       "      <th>3</th>\n",
       "      <td>537</td>\n",
       "      <td>727.031366</td>\n",
       "      <td>694.107710</td>\n",
       "    </tr>\n",
       "    <tr>\n",
       "      <th>4</th>\n",
       "      <td>5964</td>\n",
       "      <td>7180.988674</td>\n",
       "      <td>7425.353560</td>\n",
       "    </tr>\n",
       "    <tr>\n",
       "      <th>...</th>\n",
       "      <td>...</td>\n",
       "      <td>...</td>\n",
       "      <td>...</td>\n",
       "    </tr>\n",
       "    <tr>\n",
       "      <th>13480</th>\n",
       "      <td>2239</td>\n",
       "      <td>2403.202635</td>\n",
       "      <td>2354.263323</td>\n",
       "    </tr>\n",
       "    <tr>\n",
       "      <th>13481</th>\n",
       "      <td>1092</td>\n",
       "      <td>908.723195</td>\n",
       "      <td>896.414922</td>\n",
       "    </tr>\n",
       "    <tr>\n",
       "      <th>13482</th>\n",
       "      <td>3285</td>\n",
       "      <td>4534.975464</td>\n",
       "      <td>4638.855560</td>\n",
       "    </tr>\n",
       "    <tr>\n",
       "      <th>13483</th>\n",
       "      <td>3734</td>\n",
       "      <td>3465.940124</td>\n",
       "      <td>3381.763771</td>\n",
       "    </tr>\n",
       "    <tr>\n",
       "      <th>13484</th>\n",
       "      <td>1363</td>\n",
       "      <td>1069.489534</td>\n",
       "      <td>1062.376047</td>\n",
       "    </tr>\n",
       "  </tbody>\n",
       "</table>\n",
       "<p>13485 rows × 3 columns</p>\n",
       "</div>"
      ],
      "text/plain": [
       "       price  predicted_price_lm  predicted_price_gbdt\n",
       "0        564          747.149466            799.049243\n",
       "1       5914         6644.569397           6635.491541\n",
       "2       2562         2096.573114           2138.584133\n",
       "3        537          727.031366            694.107710\n",
       "4       5964         7180.988674           7425.353560\n",
       "...      ...                 ...                   ...\n",
       "13480   2239         2403.202635           2354.263323\n",
       "13481   1092          908.723195            896.414922\n",
       "13482   3285         4534.975464           4638.855560\n",
       "13483   3734         3465.940124           3381.763771\n",
       "13484   1363         1069.489534           1062.376047\n",
       "\n",
       "[13485 rows x 3 columns]"
      ]
     },
     "execution_count": 5,
     "metadata": {},
     "output_type": "execute_result"
    }
   ],
   "source": [
    "diam = pd.read_csv('../datasets/diamond_prices.csv')\n",
    "diam"
   ]
  },
  {
   "cell_type": "code",
   "execution_count": 6,
   "metadata": {},
   "outputs": [
    {
     "data": {
      "text/plain": [
       "6.88"
      ]
     },
     "execution_count": 6,
     "metadata": {},
     "output_type": "execute_result"
    }
   ],
   "source": [
    "# Which of the two models is better? Calculate the difference in mean absolute errors of two models, round the result to 2 decimal points.\n",
    "\n",
    "np.round(abs(diam['price'] - diam['predicted_price_lm']).mean() - abs(diam['price'] - diam['predicted_price_gbdt']).mean(), 2)"
   ]
  },
  {
   "cell_type": "code",
   "execution_count": 7,
   "metadata": {},
   "outputs": [
    {
     "data": {
      "text/plain": [
       "0.0172"
      ]
     },
     "execution_count": 7,
     "metadata": {},
     "output_type": "execute_result"
    }
   ],
   "source": [
    "# Is the difference in predictive performance of two models significant? \n",
    "# Test the hypothesis with appropriate test, provide the p-value rounded to 4 decimal points.\n",
    "\n",
    "np.round(ttest_rel(abs(diam['price'] - diam['predicted_price_lm']), abs(diam['price'] - diam['predicted_price_gbdt'])).pvalue, 4)"
   ]
  },
  {
   "cell_type": "code",
   "execution_count": 8,
   "metadata": {},
   "outputs": [
    {
     "data": {
      "text/plain": [
       "array([ 1.22, 12.53])"
      ]
     },
     "execution_count": 8,
     "metadata": {},
     "output_type": "execute_result"
    }
   ],
   "source": [
    "# Build a 95% confidence interval for the difference in absolute prediction errors. What is its bound closest to zero? Provide the answer rounded to 2 decimal points.\n",
    "\n",
    "np.round(sms.DescrStatsW(\n",
    "    abs(diam['price'] - diam['predicted_price_lm']) - \\\n",
    "    abs(diam['price'] - diam['predicted_price_gbdt']))\\\n",
    "        .tconfint_mean(), 2)"
   ]
  },
  {
   "cell_type": "code",
   "execution_count": 11,
   "metadata": {},
   "outputs": [
    {
     "data": {
      "image/png": "[encoded data removed]",
      "text/plain": [
       "<Figure size 2000x400 with 3 Axes>"
      ]
     },
     "metadata": {},
     "output_type": "display_data"
    }
   ],
   "source": [
    "fig, ax = plt.subplots(ncols=3, figsize=(20, 4))\n",
    "ax[0].hist(diam.price, bins=50);\n",
    "ax[0].set_title('Histogram of a real price')\n",
    "ax[0].grid()\n",
    "ax[1].hist(diam.predicted_price_lm, bins=50);\n",
    "ax[1].set_title('Histogram of a predicted of prices by lm')\n",
    "ax[1].grid()\n",
    "ax[2].hist(diam.predicted_price_gbdt, bins=50);\n",
    "ax[2].set_title('Histogram of a predicted of price by gbdt')\n",
    "ax[2].grid()"
   ]
  },
  {
   "cell_type": "code",
   "execution_count": 12,
   "metadata": {},
   "outputs": [
    {
     "data": {
      "image/png": "[encoded data removed]",
      "text/plain": [
       "<Figure size 640x480 with 1 Axes>"
      ]
     },
     "metadata": {},
     "output_type": "display_data"
    }
   ],
   "source": [
    "true_value = diam.price\n",
    "predicted_value = diam.predicted_price_lm\n",
    "\n",
    "\n",
    "g=plt.plot(true_value - predicted_value,marker='o',linestyle='')\n"
   ]
  },
  {
   "cell_type": "code",
   "execution_count": 2,
   "metadata": {},
   "outputs": [
    {
     "data": {
      "text/markdown": [
       "# pines\n"
      ],
      "text/plain": [
       "<IPython.core.display.Markdown object>"
      ]
     },
     "metadata": {},
     "output_type": "display_data"
    }
   ],
   "source": [
    "%%markdown\n",
    "# pines"
   ]
  },
  {
   "cell_type": "code",
   "execution_count": 39,
   "metadata": {},
   "outputs": [
    {
     "name": "stdout",
     "output_type": "stream",
     "text": [
      "23.36\n"
     ]
    }
   ],
   "source": [
    "pines = pd.read_csv(\"../datasets/pines.txt\", sep='\\t')\n",
    "\n",
    "# split the plot on 5х5 identical squares 40x40 m each, \n",
    "# calculate the number of pines in each square (to get the same results as we did, use scipy.stats.binned_statistic_2d).\n",
    "\n",
    "# If the distribution of pines is uniform, what is the expected average number of pines in each square? Enter the answer with two decimal points.\n",
    "\n",
    "trees_bins = binned_statistic_2d(pines.sn, pines.we, values=None, statistic='count', bins=[5, 5])\n",
    "trees_squares_num = trees_bins.statistic\n",
    "\n",
    "mean_trees_num = np.sum(trees_squares_num) / 25\n",
    "print(mean_trees_num)"
   ]
  },
  {
   "cell_type": "code",
   "execution_count": 40,
   "metadata": {},
   "outputs": [
    {
     "data": {
      "text/plain": [
       "150.59"
      ]
     },
     "execution_count": 40,
     "metadata": {},
     "output_type": "execute_result"
    }
   ],
   "source": [
    "# To compare the distribution of pines with uniform, calculate the value of chi-squared test statistic for that set of 40x40m plots. \n",
    "# Enter it with two decimal points.\n",
    "\n",
    "np.round(chisquare(trees_squares_num.flatten(), ddof = 0).statistic, 2)"
   ]
  },
  {
   "cell_type": "code",
   "execution_count": 45,
   "metadata": {},
   "outputs": [
    {
     "data": {
      "text/plain": [
       "2.574669774967279e-20"
      ]
     },
     "execution_count": 45,
     "metadata": {},
     "output_type": "execute_result"
    }
   ],
   "source": [
    "# Is this value large enough to reject the hypothesis of uniform distribution? Calculate the p-value. Do you reject the hypothesis at 0.05?\n",
    "\n",
    "chisquare(trees_squares_num.flatten(), ddof = 0).pvalue # -> rejected"
   ]
  },
  {
   "cell_type": "code",
   "execution_count": 46,
   "metadata": {},
   "outputs": [
    {
     "data": {
      "text/markdown": [
       "# lactose tolerance\n"
      ],
      "text/plain": [
       "<IPython.core.display.Markdown object>"
      ]
     },
     "metadata": {},
     "output_type": "display_data"
    }
   ],
   "source": [
    "%%markdown\n",
    "# lactose tolerance"
   ]
  },
  {
   "cell_type": "code",
   "execution_count": 53,
   "metadata": {},
   "outputs": [
    {
     "name": "stdout",
     "output_type": "stream",
     "text": [
      "Wald's interval: 0.059\n"
     ]
    }
   ],
   "source": [
    "# lactose\n",
    "# Most adult mammals are unable to digest lactose contained in milk. \n",
    "# In humans, an enzyme called lactase can break down lactose and complete milk digestion. \n",
    "# It is encoded by a gene LCT. If that gene has a variant 13910T, the carriers are able to digest milk in adulthood. \n",
    "# The distribution of this genetic variant is very different across subpopulations of humans. \n",
    "# Out of 50 tested Maya peoples, 13910T was found in one. \n",
    "# Build a 95% Wald's confidence interval for the proportion of 13910T carriers in Maya population. \n",
    "# What is its' upper bound? Round the answer to 3 decimal points.\n",
    "\n",
    "print(f\"Wald's interval: {np.round(sms.proportion_confint(1, 50, method = 'normal')[1], 3)}\")"
   ]
  },
  {
   "cell_type": "code",
   "execution_count": 54,
   "metadata": {},
   "outputs": [
    {
     "name": "stdout",
     "output_type": "stream",
     "text": [
      "Wilson's interval: 0.105\n"
     ]
    }
   ],
   "source": [
    "# Build a 95% Wilson's confidence interval for the proportion of 13910T carriers in Maya population. What is its' upper bound? Round the answer to 3 decimals.\n",
    "\n",
    "print(f\"Wilson's interval: {np.round(sms.proportion_confint(1, 50, method = 'wilson')[1], 3)}\")"
   ]
  },
  {
   "cell_type": "code",
   "execution_count": 161,
   "metadata": {},
   "outputs": [
    {
     "data": {
      "text/plain": [
       "753.0"
      ]
     },
     "execution_count": 161,
     "metadata": {},
     "output_type": "execute_result"
    }
   ],
   "source": [
    "# Assuming Maya peoples have 2% of 13910T carriers, just like the sample that we had, \n",
    "# how many subjects we need to test to estimate that proportion with precision ±0.01 on 95% confidence level?\n",
    "\n",
    "np.ceil(sms.samplesize_confint_proportion(1.0/50, 0.01, method='normal'))"
   ]
  },
  {
   "cell_type": "code",
   "execution_count": 55,
   "metadata": {},
   "outputs": [
    {
     "data": {
      "text/plain": [
       "9604.0"
      ]
     },
     "execution_count": 55,
     "metadata": {},
     "output_type": "execute_result"
    }
   ],
   "source": [
    "# Plot the sample size necessary to estimate the proportion of 13910T carriers with precision ±0.01 on 95% confidence level as a function of the unknown parameter 𝑝.\n",
    "# With which 𝑝 do we need the most subjects? How likely, in your opinion, that p is equal to that, given the sample that we have seen?\n",
    "\n",
    "# How many people do we have to test in the worst case to estimate the proportion of 13910T carriers with precision ±0.01on 95% confidence level?\n",
    "\n",
    "np.ceil(sms.samplesize_confint_proportion(0.5, 0.01, method='normal'))"
   ]
  }
 ],
 "metadata": {
  "kernelspec": {
   "display_name": "base",
   "language": "python",
   "name": "python3"
  },
  "language_info": {
   "codemirror_mode": {
    "name": "ipython",
    "version": 3
   },
   "file_extension": ".py",
   "mimetype": "text/x-python",
   "name": "python",
   "nbconvert_exporter": "python",
   "pygments_lexer": "ipython3",
   "version": "3.9.12"
  },
  "orig_nbformat": 4
 },
 "nbformat": 4,
 "nbformat_minor": 2
}
