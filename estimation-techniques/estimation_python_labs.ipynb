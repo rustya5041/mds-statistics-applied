{
 "cells": [
  {
   "cell_type": "code",
   "execution_count": 6,
   "metadata": {},
   "outputs": [],
   "source": [
    "import pandas as pd\n",
    "import numpy as np\n",
    "import scipy.stats as st\n",
    "import statsmodels.stats.api as sms\n",
    "import matplotlib.pyplot as plt\n",
    "%matplotlib inline\n"
   ]
  },
  {
   "cell_type": "code",
   "execution_count": 7,
   "metadata": {},
   "outputs": [
    {
     "data": {
      "text/markdown": [
       "# software reliability test\n"
      ],
      "text/plain": [
       "<IPython.core.display.Markdown object>"
      ]
     },
     "metadata": {},
     "output_type": "display_data"
    }
   ],
   "source": [
    "%%markdown\n",
    "# software reliability test"
   ]
  },
  {
   "cell_type": "code",
   "execution_count": 8,
   "metadata": {},
   "outputs": [],
   "source": [
    "fa = pd.read_csv('../datasets/failure_times.txt', header=None)\n",
    "fa.columns = ['time']"
   ]
  },
  {
   "cell_type": "code",
   "execution_count": 9,
   "metadata": {},
   "outputs": [
    {
     "data": {
      "text/plain": [
       "656.88"
      ]
     },
     "execution_count": 9,
     "metadata": {},
     "output_type": "execute_result"
    }
   ],
   "source": [
    "# How often do failures happen?\n",
    "# Calculate average time between failures, present the answer with two decimal points.\n",
    "fa['time_shifted'] = fa.time.shift(1)\n",
    "fa['dif'] = fa.time - fa.time_shifted\n",
    "\n",
    "np.round(np.mean(fa.time - fa.time_shifted),2)"
   ]
  },
  {
   "cell_type": "code",
   "execution_count": 10,
   "metadata": {},
   "outputs": [
    {
     "data": {
      "text/plain": [
       "833.45"
      ]
     },
     "execution_count": 10,
     "metadata": {},
     "output_type": "execute_result"
    }
   ],
   "source": [
    "# Calculate 95% confidence interval for the mean time between failures based on asymptotic normality of the sample mean.\n",
    "# What is its upper bound? Round the answer to 2 decimal points.\n",
    "\n",
    "fa = fa.dropna()\n",
    "\n",
    "# 95% conf interval\n",
    "conf_int = np.round(sms.DescrStatsW(fa.dif).tconfint_mean(), 2)\n",
    "\n",
    "# upper bound\n",
    "conf_int[1]"
   ]
  },
  {
   "cell_type": "code",
   "execution_count": 11,
   "metadata": {},
   "outputs": [
    {
     "data": {
      "text/plain": [
       "838.16"
      ]
     },
     "execution_count": 11,
     "metadata": {},
     "output_type": "execute_result"
    }
   ],
   "source": [
    "# Calculate 95% confidence interval for the mean time between failures based on asymptotic normality of the sample mean.\n",
    "# What is its upper bound? Round the answer to 2 decimal points.\n",
    "\n",
    "# boostrapping\n",
    "def get_bootstrap_samples(x, n_resamples):\n",
    "    indices = np.random.randint(0, len(x), (n_resamples, len(x)))\n",
    "    resamples = x[indices]\n",
    "    return resamples\n",
    "\n",
    "def percentile_interval(stat, alpha):\n",
    "    boundaries = np.percentile(stat, [100 * alpha / 2., 100 * (1 - alpha / 2.)])\n",
    "    return boundaries\n",
    "\n",
    "# random seed 0 to replicate the result\n",
    "np.random.seed(0)\n",
    "\n",
    "# boot strapping samples\n",
    "failure_mean_scores = list(map(np.mean, get_bootstrap_samples(fa.dif.values, 10000)))\n",
    "\n",
    "# finding 95% conf. interval \n",
    "conf_int = np.round(percentile_interval(failure_mean_scores, 0.05),2)\n",
    "\n",
    "# upper bound\n",
    "conf_int[1]\n"
   ]
  },
  {
   "cell_type": "code",
   "execution_count": 12,
   "metadata": {},
   "outputs": [
    {
     "data": {
      "image/png": "[encoded data removed]",
      "text/plain": [
       "<Figure size 2000x600 with 1 Axes>"
      ]
     },
     "metadata": {},
     "output_type": "display_data"
    }
   ],
   "source": [
    "# The intervals are quite similar, which is good, but if you have to choose one of them – which do you think is more correct to use for this problem?\n",
    "plt.figure(figsize=(20,6))\n",
    "plt.subplot(1,2,1)\n",
    "plt.hist(fa.time, color = 'r', range = (min(fa.time), max(fa.time)), label = 'Time between failures')\n",
    "plt.legend()\n",
    "plt.show()\n",
    "\n",
    "# Answer -> bootstrap, because the distribution of the variable has heavy right tail (nowhere near normal distriubtion)"
   ]
  },
  {
   "cell_type": "code",
   "execution_count": 13,
   "metadata": {},
   "outputs": [
    {
     "data": {
      "text/markdown": [
       "# water hardness and mortality\n"
      ],
      "text/plain": [
       "<IPython.core.display.Markdown object>"
      ]
     },
     "metadata": {},
     "output_type": "display_data"
    }
   ],
   "source": [
    "%%markdown\n",
    "# water hardness and mortality"
   ]
  },
  {
   "cell_type": "code",
   "execution_count": 14,
   "metadata": {},
   "outputs": [
    {
     "data": {
      "text/html": [
       "<div>\n",
       "<style scoped>\n",
       "    .dataframe tbody tr th:only-of-type {\n",
       "        vertical-align: middle;\n",
       "    }\n",
       "\n",
       "    .dataframe tbody tr th {\n",
       "        vertical-align: top;\n",
       "    }\n",
       "\n",
       "    .dataframe thead th {\n",
       "        text-align: right;\n",
       "    }\n",
       "</style>\n",
       "<table border=\"1\" class=\"dataframe\">\n",
       "  <thead>\n",
       "    <tr style=\"text-align: right;\">\n",
       "      <th></th>\n",
       "      <th>location</th>\n",
       "      <th>town</th>\n",
       "      <th>mortality</th>\n",
       "      <th>hardness</th>\n",
       "    </tr>\n",
       "  </thead>\n",
       "  <tbody>\n",
       "    <tr>\n",
       "      <th>0</th>\n",
       "      <td>South</td>\n",
       "      <td>Bath</td>\n",
       "      <td>1247</td>\n",
       "      <td>105</td>\n",
       "    </tr>\n",
       "    <tr>\n",
       "      <th>1</th>\n",
       "      <td>North</td>\n",
       "      <td>Birkenhead</td>\n",
       "      <td>1668</td>\n",
       "      <td>17</td>\n",
       "    </tr>\n",
       "    <tr>\n",
       "      <th>2</th>\n",
       "      <td>South</td>\n",
       "      <td>Birmingham</td>\n",
       "      <td>1466</td>\n",
       "      <td>5</td>\n",
       "    </tr>\n",
       "    <tr>\n",
       "      <th>3</th>\n",
       "      <td>North</td>\n",
       "      <td>Blackburn</td>\n",
       "      <td>1800</td>\n",
       "      <td>14</td>\n",
       "    </tr>\n",
       "    <tr>\n",
       "      <th>4</th>\n",
       "      <td>North</td>\n",
       "      <td>Blackpool</td>\n",
       "      <td>1609</td>\n",
       "      <td>18</td>\n",
       "    </tr>\n",
       "    <tr>\n",
       "      <th>...</th>\n",
       "      <td>...</td>\n",
       "      <td>...</td>\n",
       "      <td>...</td>\n",
       "      <td>...</td>\n",
       "    </tr>\n",
       "    <tr>\n",
       "      <th>56</th>\n",
       "      <td>South</td>\n",
       "      <td>Walsall</td>\n",
       "      <td>1527</td>\n",
       "      <td>60</td>\n",
       "    </tr>\n",
       "    <tr>\n",
       "      <th>57</th>\n",
       "      <td>South</td>\n",
       "      <td>West Bromwich</td>\n",
       "      <td>1627</td>\n",
       "      <td>53</td>\n",
       "    </tr>\n",
       "    <tr>\n",
       "      <th>58</th>\n",
       "      <td>South</td>\n",
       "      <td>West Ham</td>\n",
       "      <td>1486</td>\n",
       "      <td>122</td>\n",
       "    </tr>\n",
       "    <tr>\n",
       "      <th>59</th>\n",
       "      <td>South</td>\n",
       "      <td>Wolverhampton</td>\n",
       "      <td>1485</td>\n",
       "      <td>81</td>\n",
       "    </tr>\n",
       "    <tr>\n",
       "      <th>60</th>\n",
       "      <td>North</td>\n",
       "      <td>York</td>\n",
       "      <td>1378</td>\n",
       "      <td>71</td>\n",
       "    </tr>\n",
       "  </tbody>\n",
       "</table>\n",
       "<p>61 rows × 4 columns</p>\n",
       "</div>"
      ],
      "text/plain": [
       "   location           town  mortality  hardness\n",
       "0     South           Bath       1247       105\n",
       "1     North     Birkenhead       1668        17\n",
       "2     South     Birmingham       1466         5\n",
       "3     North      Blackburn       1800        14\n",
       "4     North      Blackpool       1609        18\n",
       "..      ...            ...        ...       ...\n",
       "56    South        Walsall       1527        60\n",
       "57    South  West Bromwich       1627        53\n",
       "58    South       West Ham       1486       122\n",
       "59    South  Wolverhampton       1485        81\n",
       "60    North           York       1378        71\n",
       "\n",
       "[61 rows x 4 columns]"
      ]
     },
     "execution_count": 14,
     "metadata": {},
     "output_type": "execute_result"
    }
   ],
   "source": [
    "wa = pd.read_csv(\"../datasets/water.txt\", sep='\\t')\n",
    "wa"
   ]
  },
  {
   "cell_type": "code",
   "execution_count": 15,
   "metadata": {},
   "outputs": [
    {
     "data": {
      "text/plain": [
       "1476.0833"
      ]
     },
     "execution_count": 15,
     "metadata": {},
     "output_type": "execute_result"
    }
   ],
   "source": [
    "# 95 conf interval for mortality\n",
    "conf_int = np.round(sms.DescrStatsW(wa.mortality).tconfint_mean(), 4)\n",
    "\n",
    "# lower bound\n",
    "conf_int[0]"
   ]
  },
  {
   "cell_type": "code",
   "execution_count": 16,
   "metadata": {},
   "outputs": [
    {
     "data": {
      "text/plain": [
       "1433.4636"
      ]
     },
     "execution_count": 16,
     "metadata": {},
     "output_type": "execute_result"
    }
   ],
   "source": [
    "# Build a 95% confidence interval for mortality rate in southern cities.\n",
    "\n",
    "was = wa[wa['location'] == 'South']\n",
    "\n",
    "# conf int\n",
    "conf_int_south = np.round(sms.DescrStatsW(was.mortality).tconfint_mean(), 4)\n",
    "\n",
    "# upper bound\n",
    "conf_int_south[1]"
   ]
  },
  {
   "cell_type": "code",
   "execution_count": 17,
   "metadata": {},
   "outputs": [
    {
     "name": "stdout",
     "output_type": "stream",
     "text": [
      "South 95% conf. int.: [1320.1517 1433.4636]\n",
      "North 95% conf. int.: [1586.5605 1680.6395]\n"
     ]
    }
   ],
   "source": [
    "# Build a 95% confidence interval for mortality in northern cities. Do two intervals – for southern and nothern cities – overlap? \n",
    "# What do you think could be concluded from it?\n",
    "\n",
    "wan = wa[wa['location'] == 'North']\n",
    "\n",
    "# conf int\n",
    "conf_int_north = np.round(sms.DescrStatsW(wan.mortality).tconfint_mean(), 4)\n",
    "\n",
    "# check overlap\n",
    "print(f\"South 95% conf. int.: {conf_int_south}\\nNorth 95% conf. int.: {conf_int_north}\")\n"
   ]
  },
  {
   "cell_type": "code",
   "execution_count": 18,
   "metadata": {},
   "outputs": [
    {
     "name": "stdout",
     "output_type": "stream",
     "text": [
      "South 95% conf. int.: [53.4672 86.0713]\n",
      "North 95% conf. int.: [21.4225 39.3775]\n"
     ]
    }
   ],
   "source": [
    "# Do 95% confidence intervals for average water hardness in southern and northern cities overlap?\n",
    "\n",
    "conf_int_south = np.round(sms.DescrStatsW(was.hardness).tconfint_mean(), 4)\n",
    "conf_int_north = np.round(sms.DescrStatsW(wan.hardness).tconfint_mean(), 4)\n",
    "print(f\"South 95% conf. int.: {conf_int_south}\\nNorth 95% conf. int.: {conf_int_north}\")\n"
   ]
  },
  {
   "cell_type": "code",
   "execution_count": 19,
   "metadata": {},
   "outputs": [
    {
     "data": {
      "text/markdown": [
       "# challenger test\n"
      ],
      "text/plain": [
       "<IPython.core.display.Markdown object>"
      ]
     },
     "metadata": {},
     "output_type": "display_data"
    }
   ],
   "source": [
    "%%markdown\n",
    "# challenger test"
   ]
  },
  {
   "cell_type": "code",
   "execution_count": 20,
   "metadata": {},
   "outputs": [
    {
     "name": "stdout",
     "output_type": "stream",
     "text": [
      "opt1 4.667\n",
      "opt2 4.667\n"
     ]
    }
   ],
   "source": [
    "# challenger\n",
    "cha = pd.read_csv('../datasets/challenger.txt', sep='\\t')\n",
    "cha.columns = ['date', 'temp', 'inc']\n",
    "\n",
    "# opt 1\n",
    "print('opt1', np.round(cha[cha['inc'] == 0]['temp'].mean() - cha[cha['inc'] == 1]['temp'].mean(),4))\n",
    "\n",
    "# opt 2\n",
    "temps = cha.groupby('inc').agg({'temp' : np.mean}).reset_index()['temp'].to_list()\n",
    "print('opt2', np.round(temps[0] - temps[1],4))"
   ]
  },
  {
   "cell_type": "code",
   "execution_count": 21,
   "metadata": {},
   "outputs": [
    {
     "name": "stdout",
     "output_type": "stream",
     "text": [
      "95% conf interval: [1.2767 7.9769]\n"
     ]
    }
   ],
   "source": [
    "# Using percentile bootstrap, build 95% confidence interval for the difference between mean air temperatures for launches with and without O-ring failures.\n",
    "#  What is its' bound closes to 0? Round the answer to 4 decimal points. If you want to get exactly the same results as we did:\n",
    "# use get_bootstrap_samples and percentile_interval functions from the example notebook\n",
    "# set random seed = 0 before calling get_bootstrap_samples, once\n",
    "# use 5000 bootstrap resamples from each sample\n",
    "\n",
    "cha_f = cha[cha.inc == 1]\n",
    "cha_s = cha[cha.inc == 0]\n",
    "\n",
    "np.random.seed(0)\n",
    "\n",
    "scores_f = get_bootstrap_samples(x=cha_f.temp.values, n_resamples=5000)\n",
    "scores_s = get_bootstrap_samples(x=cha_s.temp.values, n_resamples=5000)\n",
    "\n",
    "score_dif = np.mean(scores_s,axis=1) - np.mean(scores_f, axis=1)\n",
    "\n",
    "conf_int = percentile_interval(score_dif, 0.05)\n",
    "\n",
    "print(f'95% conf interval: {np.round(conf_int, 4)}')"
   ]
  },
  {
   "cell_type": "code",
   "execution_count": 22,
   "metadata": {},
   "outputs": [
    {
     "data": {
      "text/plain": [
       "1433.4636"
      ]
     },
     "execution_count": 22,
     "metadata": {},
     "output_type": "execute_result"
    }
   ],
   "source": [
    "water = pd.read_csv('../datasets/water.txt', sep='\\t', header=0)\n",
    "water_s = water[water['location'] == 'South']\n",
    "\n",
    "\n",
    "np.round(sms.DescrStatsW(water_s.mortality).tconfint_mean(), 4)[1]"
   ]
  },
  {
   "cell_type": "code",
   "execution_count": null,
   "metadata": {},
   "outputs": [],
   "source": []
  }
 ],
 "metadata": {
  "kernelspec": {
   "display_name": "base",
   "language": "python",
   "name": "python3"
  },
  "language_info": {
   "codemirror_mode": {
    "name": "ipython",
    "version": 3
   },
   "file_extension": ".py",
   "mimetype": "text/x-python",
   "name": "python",
   "nbconvert_exporter": "python",
   "pygments_lexer": "ipython3",
   "version": "3.9.12"
  },
  "orig_nbformat": 4
 },
 "nbformat": 4,
 "nbformat_minor": 2
}
