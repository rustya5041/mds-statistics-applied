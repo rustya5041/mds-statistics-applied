{
 "cells": [
  {
   "cell_type": "markdown",
   "metadata": {},
   "source": [
    "## Applied Statistics final SGA, by Magomedov Rustam\n",
    "\n",
    "Task description:\n",
    "**We would like to estimate the effect of the treatment on Growth and dANB by taking into account causal relationships between variables. Our knowledge of those causal relationships is represented on the following DAG**\n",
    "\n",
    "Given the graph, select the variables to condition on, apply suitable adjustment method, and calculate your estimates of causal effects: Treatment on Growth, Treatment on dANB, both ATE and ATET.\n",
    "\n",
    "Your analysis should contain:\n",
    "- Selection of covariates to adjust for (informed by the graph)\n",
    "- Application of the most suitable adjustment method\n",
    "- Estimates of the ATE and ATET\n",
    "\n",
    "The maximal grade for the assignment is 25 points , where for each of two estimated causal effects you could get:\n",
    "- a maximum of 6.5 points for correct and optimal selection of the adjustment set,\n",
    "- a maximum of 3 points for correct estimation of the ATE,\n",
    "- a maximum of 3 points for correct estimation of the ATET."
   ]
  },
  {
   "cell_type": "markdown",
   "metadata": {},
   "source": [
    "First of all, let us discss the elements of the directed graph. \n",
    "\n",
    "For case when \n",
    "- Y = `Growth` \n",
    "- T = `Treatment`\n",
    "\n",
    "1. Firstly, one can see that the `treatment` element has no direct path to `growth`. Based on the front-door adjustment formula, there exists a backdoor path from `treatment` to `growth`. Howerver, such undirected path through the unobserved confounders is present, but the data on these UC is absent from the `malocclusion.csv` data. Hence, we can conclude that calculating ATE and ATET can be proclaimed either statistically insignificant or simply say its 0.\n",
    "2. Secondly, the adjustment set for `treatment` on `growth` is {`dT`}, since `dT` is a descendant of `treatment` and is not a descendant of `growth`.\n",
    "\n",
    "For case when\n",
    "- Y = `dANB`\n",
    "- T = `Treatment`\n",
    "\n",
    "1. Firstly, `treatment` has a direct effect on `dANB`. Likewise, `growth` element directly influences `dANB`, making `dANB` element a collider. Moreover, `dT` has direct a direct path to `dANB`, which higlights that we have to test for dependence between `dT` & `dANB`, in which case `growth` serves as a mediator. $\\therefore$ adjusting for `dT` becomes crucial.\n",
    "2. Secondly, the valid adjustment set for `Treatment` on `dANB` is {`dT`, `growth`} . Based on the causal effect formula, we woulde have also count `unobserved confounders` as a parent for `Treatment`. However, we cannot adjust to that, since we don't have it in our dataset. Based on the definition of adjustment set, we are left with {`dT`, `growth`} set, since such a set contains neither descendants on the directed path nor is on the non-directed path.\n",
    "\n"
   ]
  },
  {
   "cell_type": "markdown",
   "metadata": {},
   "source": [
    "## Libs & udfs"
   ]
  },
  {
   "cell_type": "code",
   "execution_count": 1,
   "metadata": {},
   "outputs": [],
   "source": [
    "import pandas as pd\n",
    "from causalinference import CausalModel\n",
    "from statsmodels.formula.api import ols\n",
    "from sklearn.linear_model import LogisticRegression\n",
    "from sklearn.calibration import CalibratedClassifierCV\n",
    "import statsmodels.formula.api as smf\n",
    "\n",
    "import warnings\n",
    "warnings.filterwarnings('ignore')\n",
    "\n",
    "# global param\n",
    "treatment = 'Treatment'\n",
    "\n",
    "def run_exp(df, treatment, outcome, cov):\n",
    "    \"\"\"\n",
    "    runs the ols regression for the given treatment, outcome and covariates params\n",
    "    \"\"\"\n",
    "    # create the formula for the OLS reg\n",
    "    form = outcome + ' ~ ' + treatment + ' + ' + ' + '.join(cov)\n",
    "    print(f\"Formula: {form}\")\n",
    "\n",
    "    # run the reg\n",
    "    m = ols(form, df).fit()\n",
    "    print(m.summary())\n",
    "    return None"
   ]
  },
  {
   "cell_type": "markdown",
   "metadata": {},
   "source": [
    "## EDA"
   ]
  },
  {
   "cell_type": "code",
   "execution_count": 2,
   "metadata": {},
   "outputs": [
    {
     "data": {
      "text/html": [
       "<div>\n",
       "<style scoped>\n",
       "    .dataframe tbody tr th:only-of-type {\n",
       "        vertical-align: middle;\n",
       "    }\n",
       "\n",
       "    .dataframe tbody tr th {\n",
       "        vertical-align: top;\n",
       "    }\n",
       "\n",
       "    .dataframe thead th {\n",
       "        text-align: right;\n",
       "    }\n",
       "</style>\n",
       "<table border=\"1\" class=\"dataframe\">\n",
       "  <thead>\n",
       "    <tr style=\"text-align: right;\">\n",
       "      <th></th>\n",
       "      <th>dANB</th>\n",
       "      <th>dPPPM</th>\n",
       "      <th>dIMPA</th>\n",
       "      <th>dCoA</th>\n",
       "      <th>dGoPg</th>\n",
       "      <th>dCoGo</th>\n",
       "      <th>dT</th>\n",
       "      <th>Growth</th>\n",
       "      <th>Treatment</th>\n",
       "    </tr>\n",
       "  </thead>\n",
       "  <tbody>\n",
       "    <tr>\n",
       "      <th>0</th>\n",
       "      <td>-3.2</td>\n",
       "      <td>-1.1</td>\n",
       "      <td>-4.2</td>\n",
       "      <td>1.0</td>\n",
       "      <td>4.0</td>\n",
       "      <td>3.7</td>\n",
       "      <td>5</td>\n",
       "      <td>0</td>\n",
       "      <td>0</td>\n",
       "    </tr>\n",
       "    <tr>\n",
       "      <th>1</th>\n",
       "      <td>-0.6</td>\n",
       "      <td>-0.5</td>\n",
       "      <td>3.8</td>\n",
       "      <td>2.6</td>\n",
       "      <td>-0.1</td>\n",
       "      <td>1.4</td>\n",
       "      <td>3</td>\n",
       "      <td>1</td>\n",
       "      <td>0</td>\n",
       "    </tr>\n",
       "    <tr>\n",
       "      <th>2</th>\n",
       "      <td>-1.6</td>\n",
       "      <td>-3.1</td>\n",
       "      <td>-6.0</td>\n",
       "      <td>4.3</td>\n",
       "      <td>4.2</td>\n",
       "      <td>7.1</td>\n",
       "      <td>5</td>\n",
       "      <td>0</td>\n",
       "      <td>0</td>\n",
       "    </tr>\n",
       "    <tr>\n",
       "      <th>3</th>\n",
       "      <td>-1.1</td>\n",
       "      <td>-2.1</td>\n",
       "      <td>-12.1</td>\n",
       "      <td>14.1</td>\n",
       "      <td>20.7</td>\n",
       "      <td>17.5</td>\n",
       "      <td>9</td>\n",
       "      <td>0</td>\n",
       "      <td>0</td>\n",
       "    </tr>\n",
       "    <tr>\n",
       "      <th>4</th>\n",
       "      <td>-1.1</td>\n",
       "      <td>0.0</td>\n",
       "      <td>-6.7</td>\n",
       "      <td>7.7</td>\n",
       "      <td>8.8</td>\n",
       "      <td>11.0</td>\n",
       "      <td>5</td>\n",
       "      <td>0</td>\n",
       "      <td>0</td>\n",
       "    </tr>\n",
       "  </tbody>\n",
       "</table>\n",
       "</div>"
      ],
      "text/plain": [
       "   dANB  dPPPM  dIMPA  dCoA  dGoPg  dCoGo  dT  Growth  Treatment\n",
       "0  -3.2   -1.1   -4.2   1.0    4.0    3.7   5       0          0\n",
       "1  -0.6   -0.5    3.8   2.6   -0.1    1.4   3       1          0\n",
       "2  -1.6   -3.1   -6.0   4.3    4.2    7.1   5       0          0\n",
       "3  -1.1   -2.1  -12.1  14.1   20.7   17.5   9       0          0\n",
       "4  -1.1    0.0   -6.7   7.7    8.8   11.0   5       0          0"
      ]
     },
     "execution_count": 2,
     "metadata": {},
     "output_type": "execute_result"
    }
   ],
   "source": [
    "mal = pd.read_csv('./malocclusion.csv')\n",
    "mal.head()"
   ]
  },
  {
   "cell_type": "code",
   "execution_count": 3,
   "metadata": {},
   "outputs": [
    {
     "data": {
      "text/html": [
       "<div>\n",
       "<style scoped>\n",
       "    .dataframe tbody tr th:only-of-type {\n",
       "        vertical-align: middle;\n",
       "    }\n",
       "\n",
       "    .dataframe tbody tr th {\n",
       "        vertical-align: top;\n",
       "    }\n",
       "\n",
       "    .dataframe thead th {\n",
       "        text-align: right;\n",
       "    }\n",
       "</style>\n",
       "<table border=\"1\" class=\"dataframe\">\n",
       "  <thead>\n",
       "    <tr style=\"text-align: right;\">\n",
       "      <th></th>\n",
       "      <th>dANB</th>\n",
       "      <th>dPPPM</th>\n",
       "      <th>dIMPA</th>\n",
       "      <th>dCoA</th>\n",
       "      <th>dGoPg</th>\n",
       "      <th>dCoGo</th>\n",
       "      <th>dT</th>\n",
       "      <th>Growth</th>\n",
       "      <th>Treatment</th>\n",
       "    </tr>\n",
       "  </thead>\n",
       "  <tbody>\n",
       "    <tr>\n",
       "      <th>count</th>\n",
       "      <td>143.000000</td>\n",
       "      <td>143.000000</td>\n",
       "      <td>143.000000</td>\n",
       "      <td>143.000000</td>\n",
       "      <td>143.000000</td>\n",
       "      <td>143.000000</td>\n",
       "      <td>143.000000</td>\n",
       "      <td>143.000000</td>\n",
       "      <td>143.000000</td>\n",
       "    </tr>\n",
       "    <tr>\n",
       "      <th>mean</th>\n",
       "      <td>-0.227273</td>\n",
       "      <td>-1.374825</td>\n",
       "      <td>-0.785315</td>\n",
       "      <td>5.987413</td>\n",
       "      <td>7.730769</td>\n",
       "      <td>6.732867</td>\n",
       "      <td>4.706294</td>\n",
       "      <td>0.405594</td>\n",
       "      <td>0.461538</td>\n",
       "    </tr>\n",
       "    <tr>\n",
       "      <th>std</th>\n",
       "      <td>1.826225</td>\n",
       "      <td>2.715046</td>\n",
       "      <td>5.080894</td>\n",
       "      <td>4.469692</td>\n",
       "      <td>5.532417</td>\n",
       "      <td>4.595141</td>\n",
       "      <td>2.550427</td>\n",
       "      <td>0.492733</td>\n",
       "      <td>0.500271</td>\n",
       "    </tr>\n",
       "    <tr>\n",
       "      <th>min</th>\n",
       "      <td>-5.100000</td>\n",
       "      <td>-9.300000</td>\n",
       "      <td>-19.000000</td>\n",
       "      <td>-0.900000</td>\n",
       "      <td>-1.400000</td>\n",
       "      <td>-2.600000</td>\n",
       "      <td>1.000000</td>\n",
       "      <td>0.000000</td>\n",
       "      <td>0.000000</td>\n",
       "    </tr>\n",
       "    <tr>\n",
       "      <th>25%</th>\n",
       "      <td>-1.350000</td>\n",
       "      <td>-2.750000</td>\n",
       "      <td>-3.450000</td>\n",
       "      <td>1.800000</td>\n",
       "      <td>3.200000</td>\n",
       "      <td>3.050000</td>\n",
       "      <td>3.000000</td>\n",
       "      <td>0.000000</td>\n",
       "      <td>0.000000</td>\n",
       "    </tr>\n",
       "    <tr>\n",
       "      <th>50%</th>\n",
       "      <td>-0.300000</td>\n",
       "      <td>-1.400000</td>\n",
       "      <td>-0.400000</td>\n",
       "      <td>5.500000</td>\n",
       "      <td>6.200000</td>\n",
       "      <td>6.300000</td>\n",
       "      <td>4.000000</td>\n",
       "      <td>0.000000</td>\n",
       "      <td>0.000000</td>\n",
       "    </tr>\n",
       "    <tr>\n",
       "      <th>75%</th>\n",
       "      <td>0.950000</td>\n",
       "      <td>0.050000</td>\n",
       "      <td>2.100000</td>\n",
       "      <td>9.750000</td>\n",
       "      <td>12.750000</td>\n",
       "      <td>10.350000</td>\n",
       "      <td>6.000000</td>\n",
       "      <td>1.000000</td>\n",
       "      <td>1.000000</td>\n",
       "    </tr>\n",
       "    <tr>\n",
       "      <th>max</th>\n",
       "      <td>4.900000</td>\n",
       "      <td>6.500000</td>\n",
       "      <td>12.000000</td>\n",
       "      <td>20.000000</td>\n",
       "      <td>23.300000</td>\n",
       "      <td>17.500000</td>\n",
       "      <td>12.000000</td>\n",
       "      <td>1.000000</td>\n",
       "      <td>1.000000</td>\n",
       "    </tr>\n",
       "  </tbody>\n",
       "</table>\n",
       "</div>"
      ],
      "text/plain": [
       "             dANB       dPPPM       dIMPA        dCoA       dGoPg       dCoGo  \\\n",
       "count  143.000000  143.000000  143.000000  143.000000  143.000000  143.000000   \n",
       "mean    -0.227273   -1.374825   -0.785315    5.987413    7.730769    6.732867   \n",
       "std      1.826225    2.715046    5.080894    4.469692    5.532417    4.595141   \n",
       "min     -5.100000   -9.300000  -19.000000   -0.900000   -1.400000   -2.600000   \n",
       "25%     -1.350000   -2.750000   -3.450000    1.800000    3.200000    3.050000   \n",
       "50%     -0.300000   -1.400000   -0.400000    5.500000    6.200000    6.300000   \n",
       "75%      0.950000    0.050000    2.100000    9.750000   12.750000   10.350000   \n",
       "max      4.900000    6.500000   12.000000   20.000000   23.300000   17.500000   \n",
       "\n",
       "               dT      Growth   Treatment  \n",
       "count  143.000000  143.000000  143.000000  \n",
       "mean     4.706294    0.405594    0.461538  \n",
       "std      2.550427    0.492733    0.500271  \n",
       "min      1.000000    0.000000    0.000000  \n",
       "25%      3.000000    0.000000    0.000000  \n",
       "50%      4.000000    0.000000    0.000000  \n",
       "75%      6.000000    1.000000    1.000000  \n",
       "max     12.000000    1.000000    1.000000  "
      ]
     },
     "execution_count": 3,
     "metadata": {},
     "output_type": "execute_result"
    }
   ],
   "source": [
    "mal.describe()"
   ]
  },
  {
   "cell_type": "markdown",
   "metadata": {},
   "source": [
    "## Estimating effect of Treatment on Growth"
   ]
  },
  {
   "cell_type": "code",
   "execution_count": 4,
   "metadata": {},
   "outputs": [],
   "source": [
    "# params\n",
    "outcome_gr = 'Growth'\n",
    "cov_gr = ['dT']"
   ]
  },
  {
   "cell_type": "markdown",
   "metadata": {},
   "source": [
    "Even though we have no direct path from `treatment` to `growth`, we can still find ATE & ATET. Let us use the OLS regression to do that.\n",
    "\n",
    "where $d_{T}$ is the set of all possible values of $dT$."
   ]
  },
  {
   "cell_type": "code",
   "execution_count": 5,
   "metadata": {},
   "outputs": [
    {
     "name": "stdout",
     "output_type": "stream",
     "text": [
      "Naive estimation of Treatment effect on Growth: 0.1471861471861472\n"
     ]
    }
   ],
   "source": [
    "# naive approach\n",
    "print(f'Naive estimation of Treatment effect on Growth: {mal.Growth[mal.Treatment == 1].mean() - mal.Growth[mal.Treatment == 0].mean()}')  # this estimate is biased because of the confounding variable (growth)"
   ]
  },
  {
   "cell_type": "code",
   "execution_count": 6,
   "metadata": {},
   "outputs": [
    {
     "name": "stdout",
     "output_type": "stream",
     "text": [
      "Formula: Growth ~ Treatment + dT\n",
      "                            OLS Regression Results                            \n",
      "==============================================================================\n",
      "Dep. Variable:                 Growth   R-squared:                       0.047\n",
      "Model:                            OLS   Adj. R-squared:                  0.033\n",
      "Method:                 Least Squares   F-statistic:                     3.433\n",
      "Date:                Sun, 22 Oct 2023   Prob (F-statistic):             0.0350\n",
      "Time:                        20:08:59   Log-Likelihood:                -97.770\n",
      "No. Observations:                 143   AIC:                             201.5\n",
      "Df Residuals:                     140   BIC:                             210.4\n",
      "Df Model:                           2                                         \n",
      "Covariance Type:            nonrobust                                         \n",
      "==============================================================================\n",
      "                 coef    std err          t      P>|t|      [0.025      0.975]\n",
      "------------------------------------------------------------------------------\n",
      "Intercept      0.4623      0.086      5.382      0.000       0.292       0.632\n",
      "Treatment      0.2088      0.088      2.385      0.018       0.036       0.382\n",
      "dT            -0.0325      0.017     -1.894      0.060      -0.066       0.001\n",
      "==============================================================================\n",
      "Omnibus:                     1402.050   Durbin-Watson:                   1.240\n",
      "Prob(Omnibus):                  0.000   Jarque-Bera (JB):               20.118\n",
      "Skew:                           0.343   Prob(JB):                     4.28e-05\n",
      "Kurtosis:                       1.295   Cond. No.                         12.4\n",
      "==============================================================================\n",
      "\n",
      "Notes:\n",
      "[1] Standard Errors assume that the covariance matrix of the errors is correctly specified.\n"
     ]
    }
   ],
   "source": [
    "# run the OLS regression\n",
    "run_exp(mal, treatment=treatment, outcome=outcome_gr, cov=cov_gr)"
   ]
  },
  {
   "cell_type": "markdown",
   "metadata": {},
   "source": [
    "Even though the linear regression model above shows that the effect of `treatment` on `growth` is statistically significant, we still know from our DAG that there is no direct path from `treatment` to `growth`. Hence, we can conclude that the effect of `treatment` on `growth` is 0. Moreover, both $R^2$ and adjusted $R^2$ are very close to 0, which further proves that the effect of `treatment` on `growth` is practically absent.\n",
    "\n",
    "Now lets check ATE and ATET for `treatment` on `growth`. With OLS we obtained the ATE = 0.208, let us compare it with the results of CausalModel from causalinference lib."
   ]
  },
  {
   "cell_type": "code",
   "execution_count": 7,
   "metadata": {},
   "outputs": [
    {
     "name": "stdout",
     "output_type": "stream",
     "text": [
      "\n",
      "Treatment Effect Estimates: OLS\n",
      "\n",
      "                     Est.       S.e.          z      P>|z|      [95% Conf. int.]\n",
      "--------------------------------------------------------------------------------\n",
      "           ATE      0.202      0.087      2.338      0.019      0.033      0.372\n",
      "           ATC      0.190      0.101      1.883      0.060     -0.008      0.387\n",
      "           ATT      0.217      0.084      2.581      0.010      0.052      0.382\n",
      "\n"
     ]
    }
   ],
   "source": [
    "Y = mal[outcome_gr].values  # outcome\n",
    "D = mal[treatment].values  # treatment\n",
    "X = mal[cov_gr].values  # covariates\n",
    "\n",
    "# calling the ols model\n",
    "causal = CausalModel(Y, D, X)\n",
    "causal.est_via_ols()\n",
    "print(causal.estimates)"
   ]
  },
  {
   "cell_type": "markdown",
   "metadata": {},
   "source": [
    "We obtain the same result, which is 0.208. ATET = 0.217. As was discussed above - **such results are analytically correct, but statistically isnignificant.**"
   ]
  },
  {
   "cell_type": "markdown",
   "metadata": {},
   "source": [
    "## Estimating effect of Treatment on dANB"
   ]
  },
  {
   "cell_type": "code",
   "execution_count": 8,
   "metadata": {},
   "outputs": [],
   "source": [
    "# params\n",
    "outcome_danb = 'dANB'\n",
    "cov_danb = ['Growth', 'dT']"
   ]
  },
  {
   "cell_type": "code",
   "execution_count": 9,
   "metadata": {},
   "outputs": [
    {
     "name": "stdout",
     "output_type": "stream",
     "text": [
      "Naive estimation of Treatment effect on dANB: 2.0287878787878784\n"
     ]
    }
   ],
   "source": [
    "# naive estimate of the effect of the treatment\n",
    "print(f'Naive estimation of Treatment effect on dANB: {mal.dANB[mal.Treatment == 1].mean() - mal.dANB[mal.Treatment == 0].mean()}')  # this estimate is biased because of the confounding variable (growth)"
   ]
  },
  {
   "cell_type": "markdown",
   "metadata": {},
   "source": [
    "Let us start with the `Treatment` on `dANB` causal effect. We will also adjust for `dT` and `Growth` elements, since it is a valid adjustment set for the `Treatment` element."
   ]
  },
  {
   "cell_type": "code",
   "execution_count": 10,
   "metadata": {},
   "outputs": [
    {
     "name": "stdout",
     "output_type": "stream",
     "text": [
      "Formula: dANB ~ Treatment + Growth + dT\n",
      "                            OLS Regression Results                            \n",
      "==============================================================================\n",
      "Dep. Variable:                   dANB   R-squared:                       0.409\n",
      "Model:                            OLS   Adj. R-squared:                  0.397\n",
      "Method:                 Least Squares   F-statistic:                     32.12\n",
      "Date:                Sun, 22 Oct 2023   Prob (F-statistic):           7.78e-16\n",
      "Time:                        20:08:59   Log-Likelihood:                -250.87\n",
      "No. Observations:                 143   AIC:                             509.7\n",
      "Df Residuals:                     139   BIC:                             521.6\n",
      "Df Model:                           3                                         \n",
      "Covariance Type:            nonrobust                                         \n",
      "==============================================================================\n",
      "                 coef    std err          t      P>|t|      [0.025      0.975]\n",
      "------------------------------------------------------------------------------\n",
      "Intercept     -1.4021      0.276     -5.075      0.000      -1.948      -0.856\n",
      "Treatment      1.9336      0.261      7.394      0.000       1.417       2.451\n",
      "Growth         1.1443      0.247      4.625      0.000       0.655       1.634\n",
      "dT            -0.0386      0.051     -0.758      0.450      -0.139       0.062\n",
      "==============================================================================\n",
      "Omnibus:                        9.566   Durbin-Watson:                   2.107\n",
      "Prob(Omnibus):                  0.008   Jarque-Bera (JB):               10.722\n",
      "Skew:                           0.475   Prob(JB):                      0.00470\n",
      "Kurtosis:                       3.948   Cond. No.                         14.6\n",
      "==============================================================================\n",
      "\n",
      "Notes:\n",
      "[1] Standard Errors assume that the covariance matrix of the errors is correctly specified.\n"
     ]
    }
   ],
   "source": [
    "# modelling\n",
    "run_exp(df=mal, \n",
    "        treatment=treatment, \n",
    "        outcome=outcome_danb, \n",
    "        cov=cov_danb)"
   ]
  },
  {
   "cell_type": "markdown",
   "metadata": {},
   "source": [
    "Since `dT` has a p-value of 0.45, we can say that it is not statistically significant. Hence, we can say that the `dT` element is not a confounder for the `Treatment` element, which means that we can estimate the causal effect of `Treatment` on `dANB` without adjusting for `dT`, as was inferred from the DAG."
   ]
  },
  {
   "cell_type": "code",
   "execution_count": 11,
   "metadata": {},
   "outputs": [
    {
     "name": "stdout",
     "output_type": "stream",
     "text": [
      "Formula: dANB ~ Treatment + Growth\n",
      "                            OLS Regression Results                            \n",
      "==============================================================================\n",
      "Dep. Variable:                   dANB   R-squared:                       0.407\n",
      "Model:                            OLS   Adj. R-squared:                  0.398\n",
      "Method:                 Least Squares   F-statistic:                     48.04\n",
      "Date:                Sun, 22 Oct 2023   Prob (F-statistic):           1.31e-16\n",
      "Time:                        20:08:59   Log-Likelihood:                -251.17\n",
      "No. Observations:                 143   AIC:                             508.3\n",
      "Df Residuals:                     140   BIC:                             517.2\n",
      "Df Model:                           2                                         \n",
      "Covariance Type:            nonrobust                                         \n",
      "==============================================================================\n",
      "                 coef    std err          t      P>|t|      [0.025      0.975]\n",
      "------------------------------------------------------------------------------\n",
      "Intercept     -1.5600      0.181     -8.609      0.000      -1.918      -1.202\n",
      "Treatment      1.8560      0.240      7.724      0.000       1.381       2.331\n",
      "Growth         1.1740      0.244      4.812      0.000       0.692       1.656\n",
      "==============================================================================\n",
      "Omnibus:                        7.303   Durbin-Watson:                   2.122\n",
      "Prob(Omnibus):                  0.026   Jarque-Bera (JB):                7.911\n",
      "Skew:                           0.383   Prob(JB):                       0.0191\n",
      "Kurtosis:                       3.862   Cond. No.                         2.77\n",
      "==============================================================================\n",
      "\n",
      "Notes:\n",
      "[1] Standard Errors assume that the covariance matrix of the errors is correctly specified.\n"
     ]
    }
   ],
   "source": [
    "# remove dT from the covariates, adjust the formula\n",
    "run_exp(df=mal,\n",
    "        treatment=treatment, \n",
    "        outcome=outcome_danb, \n",
    "        cov=cov_danb[:-1])"
   ]
  },
  {
   "cell_type": "markdown",
   "metadata": {},
   "source": [
    "The OLS regression above suggests that the causal effect of both `Treatment` and `Growth` on `dANB` < 0.05, which is statistically significant. Hence, we can say that both `Treatment` and `Growth` have a causal effect on `dANB`. We also see adjustment for `dT` does not change the ATE or $R^2$ results significantly, as was expected based on the results of the previous regression."
   ]
  },
  {
   "cell_type": "markdown",
   "metadata": {},
   "source": [
    "We can also run the propensity score weighting adjustment method to check whether the results are similar to the OLS regression."
   ]
  },
  {
   "cell_type": "code",
   "execution_count": 12,
   "metadata": {},
   "outputs": [
    {
     "name": "stdout",
     "output_type": "stream",
     "text": [
      "                            WLS Regression Results                            \n",
      "==============================================================================\n",
      "Dep. Variable:                   dANB   R-squared:                       0.415\n",
      "Model:                            WLS   Adj. R-squared:                  0.407\n",
      "Method:                 Least Squares   F-statistic:                     49.68\n",
      "Date:                Sun, 22 Oct 2023   Prob (F-statistic):           4.97e-17\n",
      "Time:                        20:08:59   Log-Likelihood:                -251.35\n",
      "No. Observations:                 143   AIC:                             508.7\n",
      "Df Residuals:                     140   BIC:                             517.6\n",
      "Df Model:                           2                                         \n",
      "Covariance Type:            nonrobust                                         \n",
      "==============================================================================\n",
      "                 coef    std err          t      P>|t|      [0.025      0.975]\n",
      "------------------------------------------------------------------------------\n",
      "Intercept     -1.5578      0.193     -8.062      0.000      -1.940      -1.176\n",
      "Treatment      1.8503      0.237      7.798      0.000       1.381       2.319\n",
      "Growth         1.1748      0.237      4.953      0.000       0.706       1.644\n",
      "==============================================================================\n",
      "Omnibus:                       13.784   Durbin-Watson:                   2.129\n",
      "Prob(Omnibus):                  0.001   Jarque-Bera (JB):               21.207\n",
      "Skew:                           0.500   Prob(JB):                     2.48e-05\n",
      "Kurtosis:                       4.600   Cond. No.                         2.99\n",
      "==============================================================================\n",
      "\n",
      "Notes:\n",
      "[1] Standard Errors assume that the covariance matrix of the errors is correctly specified.\n"
     ]
    }
   ],
   "source": [
    "# now lets run the propensity score matching\n",
    "cls = LogisticRegression()\n",
    "cls = CalibratedClassifierCV(cls)\n",
    "\n",
    "X = mal[['Growth']]\n",
    "y = mal['Treatment']\n",
    "cls.fit(X, y)\n",
    "mal['e'] = cls.predict_proba(X)[:,1].tolist()\n",
    "mal.head()\n",
    "\n",
    "# calculate the weights\n",
    "mal['w'] = mal['Growth'] / mal['e'] + (1 - mal['Growth']) / (1 - mal['e'])\n",
    "\n",
    "# run the regression\n",
    "formula = outcome_danb + ' ~ ' + treatment + ' + ' + ' + '.join(cov_danb[:-1])\n",
    "m = smf.wls(formula, data=mal, weights=mal['w'])\n",
    "fitted = m.fit()\n",
    "print(fitted.summary())"
   ]
  },
  {
   "cell_type": "markdown",
   "metadata": {},
   "source": [
    "Although ATE is almost identical, we see a slight improvement in $R^2$ and adjusted $R^2$ values. The causal effect of `Treatment` on `dANB` is still statistically significant."
   ]
  },
  {
   "cell_type": "markdown",
   "metadata": {},
   "source": [
    "Let us test the matching adjustment method on the data from the previous task to see if it is a better approach to estimating the causal effects."
   ]
  },
  {
   "cell_type": "code",
   "execution_count": 13,
   "metadata": {},
   "outputs": [
    {
     "name": "stdout",
     "output_type": "stream",
     "text": [
      "\n",
      "Treatment Effect Estimates: Matching\n",
      "\n",
      "                     Est.       S.e.          z      P>|z|      [95% Conf. int.]\n",
      "--------------------------------------------------------------------------------\n",
      "           ATE      1.856      0.237      7.829      0.000      1.392      2.321\n",
      "           ATC      1.860      0.240      7.761      0.000      1.390      2.330\n",
      "           ATT      1.852      0.240      7.723      0.000      1.382      2.322\n",
      "\n"
     ]
    }
   ],
   "source": [
    "Y = mal[outcome_danb].values  # outcome\n",
    "D = mal[treatment].values  # treatment\n",
    "X = mal[cov_danb[:-1]].values  # covariates\n",
    "\n",
    "# calling the model using matching adjustment method, adjusting for bias\n",
    "causal = CausalModel(Y, D, X)\n",
    "causal.est_via_matching(weights='maha', bias_adj=True)\n",
    "print(causal.estimates)"
   ]
  },
  {
   "cell_type": "markdown",
   "metadata": {},
   "source": [
    "As can be inferred from the results above, the matching method suggests that the causal effect of `Treatment` on `dANB` < 0.05 $\\implies$ statistically significant.\n",
    "\n",
    "Moreover, the matching method suggests that the causal effect of `Growth` on `dANB` < 0.05 $\\implies$ statistically significant.\n",
    "\n",
    "Both the ATE and ATET practically do not differ from OLS regression results, which is a good sign. Hence, we can say that both methods prove to be good approaches towards estimating the causal effects in our case."
   ]
  }
 ],
 "metadata": {
  "kernelspec": {
   "display_name": "Python 3",
   "language": "python",
   "name": "python3"
  },
  "language_info": {
   "codemirror_mode": {
    "name": "ipython",
    "version": 3
   },
   "file_extension": ".py",
   "mimetype": "text/x-python",
   "name": "python",
   "nbconvert_exporter": "python",
   "pygments_lexer": "ipython3",
   "version": "3.9.12"
  }
 },
 "nbformat": 4,
 "nbformat_minor": 2
}
